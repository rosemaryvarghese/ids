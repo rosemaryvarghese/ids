{
  "cells": [
    {
      "cell_type": "code",
      "execution_count": null,
      "metadata": {
        "id": "awi-OoQCaU8d"
      },
      "outputs": [],
      "source": [
        "#Importing necessary dependencies\n",
        "import numpy as np\n",
        "import pandas as pd\n",
        "import sklearn.metrics\n",
        "import sklearn.model_selection\n",
        "import sklearn.linear_model\n",
        "import sklearn.preprocessing\n",
        "import matplotlib.pyplot as plt\n",
        "import tensorflow as tf\n",
        "from tensorflow.keras import optimizers\n",
        "from tensorflow.keras.models import Model, load_model, Sequential\n",
        "from tensorflow.keras.layers import Input, Dense, Dropout, AlphaDropout\n",
        "from tensorflow.keras.callbacks import ModelCheckpoint, TensorBoard\n",
        "from sklearn.model_selection import train_test_split\n",
        "from sklearn.metrics import confusion_matrix, precision_recall_curve\n",
        "from sklearn.metrics import recall_score, classification_report, auc, roc_curve\n",
        "from sklearn.metrics import precision_recall_fscore_support, f1_score\n",
        "from sklearn.preprocessing import OneHotEncoder\n",
        "from sklearn.preprocessing import MinMaxScaler\n",
        "from sklearn.preprocessing import LabelEncoder\n",
        "from sklearn import preprocessing\n",
        "from sklearn.ensemble import GradientBoostingClassifier\n",
        "from sklearn.linear_model import LogisticRegression\n",
        "from sklearn.metrics import accuracy_score\n",
        "from sklearn.model_selection import GridSearchCV\n",
        "from numpy import dstack\n",
        "from sklearn.feature_selection import SelectKBest\n",
        "from sklearn.feature_selection import f_classif"
      ]
    },
    {
      "cell_type": "code",
      "execution_count": null,
      "metadata": {
        "colab": {
          "base_uri": "https://localhost:8080/"
        },
        "id": "SgdleyyHnWy7",
        "outputId": "7be1ad87-9059-47ce-9c4c-0c4fe4e4a461"
      },
      "outputs": [
        {
          "output_type": "stream",
          "name": "stdout",
          "text": [
            "Mounted at /content/drive\n"
          ]
        }
      ],
      "source": [
        "from google.colab import drive\n",
        "drive.mount('/content/drive')"
      ]
    },
    {
      "cell_type": "code",
      "execution_count": null,
      "metadata": {
        "id": "WTTUHn01bvtf"
      },
      "outputs": [],
      "source": [
        "#Loading dataset\n",
        "d1 = pd.read_csv('/content/drive/MyDrive/datsets/unsw_nb15/UNSW_NB15_training-set.csv')\n",
        "t1 = pd.read_csv('/content/drive/MyDrive/datsets/unsw_nb15/UNSW_NB15_testing-set.csv')"
      ]
    },
    {
      "cell_type": "code",
      "execution_count": null,
      "metadata": {
        "id": "RNFIacQfbzoK"
      },
      "outputs": [],
      "source": [
        "data = d1.append(t1)"
      ]
    },
    {
      "cell_type": "code",
      "execution_count": null,
      "metadata": {
        "colab": {
          "base_uri": "https://localhost:8080/",
          "height": 394
        },
        "id": "Q80t3Y2Sb4YI",
        "outputId": "f3e555c7-335d-4967-d833-8c59baa2ee9d"
      },
      "outputs": [
        {
          "output_type": "execute_result",
          "data": {
            "text/plain": [
              "                  id            dur          spkts          dpkts  \\\n",
              "count  257673.000000  257673.000000  257673.000000  257673.000000   \n",
              "mean    72811.823858       1.246715      19.777144      18.514703   \n",
              "std     48929.917641       5.974305     135.947152     111.985965   \n",
              "min         1.000000       0.000000       1.000000       0.000000   \n",
              "25%     32210.000000       0.000008       2.000000       0.000000   \n",
              "50%     64419.000000       0.004285       4.000000       2.000000   \n",
              "75%    110923.000000       0.685777      12.000000      10.000000   \n",
              "max    175341.000000      59.999989   10646.000000   11018.000000   \n",
              "\n",
              "             sbytes        dbytes          rate           sttl           dttl  \\\n",
              "count  2.576730e+05  2.576730e+05  2.576730e+05  257673.000000  257673.000000   \n",
              "mean   8.572952e+03  1.438729e+04  9.125391e+04     180.000931      84.754957   \n",
              "std    1.737739e+05  1.461993e+05  1.603446e+05     102.488268     112.762131   \n",
              "min    2.400000e+01  0.000000e+00  0.000000e+00       0.000000       0.000000   \n",
              "25%    1.140000e+02  0.000000e+00  3.078928e+01      62.000000       0.000000   \n",
              "50%    5.280000e+02  1.780000e+02  2.955665e+03     254.000000      29.000000   \n",
              "75%    1.362000e+03  1.064000e+03  1.250000e+05     254.000000     252.000000   \n",
              "max    1.435577e+07  1.465753e+07  1.000000e+06     255.000000     254.000000   \n",
              "\n",
              "              sload  ...  ct_src_dport_ltm  ct_dst_sport_ltm  ct_dst_src_ltm  \\\n",
              "count  2.576730e+05  ...     257673.000000     257673.000000   257673.000000   \n",
              "mean   7.060869e+07  ...          5.238271          4.032677        8.322964   \n",
              "std    1.857313e+08  ...          8.160822          5.831515       11.120754   \n",
              "min    0.000000e+00  ...          1.000000          1.000000        1.000000   \n",
              "25%    1.231800e+04  ...          1.000000          1.000000        1.000000   \n",
              "50%    7.439423e+05  ...          1.000000          1.000000        3.000000   \n",
              "75%    8.000000e+07  ...          4.000000          3.000000        8.000000   \n",
              "max    5.988000e+09  ...         59.000000         46.000000       65.000000   \n",
              "\n",
              "        is_ftp_login     ct_ftp_cmd  ct_flw_http_mthd     ct_src_ltm  \\\n",
              "count  257673.000000  257673.000000     257673.000000  257673.000000   \n",
              "mean        0.012819       0.012850          0.132005       6.800045   \n",
              "std         0.116091       0.116421          0.681854       8.396266   \n",
              "min         0.000000       0.000000          0.000000       1.000000   \n",
              "25%         0.000000       0.000000          0.000000       2.000000   \n",
              "50%         0.000000       0.000000          0.000000       3.000000   \n",
              "75%         0.000000       0.000000          0.000000       8.000000   \n",
              "max         4.000000       4.000000         30.000000      60.000000   \n",
              "\n",
              "          ct_srv_dst  is_sm_ips_ports          label  \n",
              "count  257673.000000    257673.000000  257673.000000  \n",
              "mean        9.121049         0.014274       0.639077  \n",
              "std        10.874752         0.118618       0.480269  \n",
              "min         1.000000         0.000000       0.000000  \n",
              "25%         2.000000         0.000000       0.000000  \n",
              "50%         4.000000         0.000000       1.000000  \n",
              "75%        11.000000         0.000000       1.000000  \n",
              "max        62.000000         1.000000       1.000000  \n",
              "\n",
              "[8 rows x 41 columns]"
            ],
            "text/html": [
              "\n",
              "  <div id=\"df-f64afe40-b116-440e-b391-6b78326ec46d\">\n",
              "    <div class=\"colab-df-container\">\n",
              "      <div>\n",
              "<style scoped>\n",
              "    .dataframe tbody tr th:only-of-type {\n",
              "        vertical-align: middle;\n",
              "    }\n",
              "\n",
              "    .dataframe tbody tr th {\n",
              "        vertical-align: top;\n",
              "    }\n",
              "\n",
              "    .dataframe thead th {\n",
              "        text-align: right;\n",
              "    }\n",
              "</style>\n",
              "<table border=\"1\" class=\"dataframe\">\n",
              "  <thead>\n",
              "    <tr style=\"text-align: right;\">\n",
              "      <th></th>\n",
              "      <th>id</th>\n",
              "      <th>dur</th>\n",
              "      <th>spkts</th>\n",
              "      <th>dpkts</th>\n",
              "      <th>sbytes</th>\n",
              "      <th>dbytes</th>\n",
              "      <th>rate</th>\n",
              "      <th>sttl</th>\n",
              "      <th>dttl</th>\n",
              "      <th>sload</th>\n",
              "      <th>...</th>\n",
              "      <th>ct_src_dport_ltm</th>\n",
              "      <th>ct_dst_sport_ltm</th>\n",
              "      <th>ct_dst_src_ltm</th>\n",
              "      <th>is_ftp_login</th>\n",
              "      <th>ct_ftp_cmd</th>\n",
              "      <th>ct_flw_http_mthd</th>\n",
              "      <th>ct_src_ltm</th>\n",
              "      <th>ct_srv_dst</th>\n",
              "      <th>is_sm_ips_ports</th>\n",
              "      <th>label</th>\n",
              "    </tr>\n",
              "  </thead>\n",
              "  <tbody>\n",
              "    <tr>\n",
              "      <th>count</th>\n",
              "      <td>257673.000000</td>\n",
              "      <td>257673.000000</td>\n",
              "      <td>257673.000000</td>\n",
              "      <td>257673.000000</td>\n",
              "      <td>2.576730e+05</td>\n",
              "      <td>2.576730e+05</td>\n",
              "      <td>2.576730e+05</td>\n",
              "      <td>257673.000000</td>\n",
              "      <td>257673.000000</td>\n",
              "      <td>2.576730e+05</td>\n",
              "      <td>...</td>\n",
              "      <td>257673.000000</td>\n",
              "      <td>257673.000000</td>\n",
              "      <td>257673.000000</td>\n",
              "      <td>257673.000000</td>\n",
              "      <td>257673.000000</td>\n",
              "      <td>257673.000000</td>\n",
              "      <td>257673.000000</td>\n",
              "      <td>257673.000000</td>\n",
              "      <td>257673.000000</td>\n",
              "      <td>257673.000000</td>\n",
              "    </tr>\n",
              "    <tr>\n",
              "      <th>mean</th>\n",
              "      <td>72811.823858</td>\n",
              "      <td>1.246715</td>\n",
              "      <td>19.777144</td>\n",
              "      <td>18.514703</td>\n",
              "      <td>8.572952e+03</td>\n",
              "      <td>1.438729e+04</td>\n",
              "      <td>9.125391e+04</td>\n",
              "      <td>180.000931</td>\n",
              "      <td>84.754957</td>\n",
              "      <td>7.060869e+07</td>\n",
              "      <td>...</td>\n",
              "      <td>5.238271</td>\n",
              "      <td>4.032677</td>\n",
              "      <td>8.322964</td>\n",
              "      <td>0.012819</td>\n",
              "      <td>0.012850</td>\n",
              "      <td>0.132005</td>\n",
              "      <td>6.800045</td>\n",
              "      <td>9.121049</td>\n",
              "      <td>0.014274</td>\n",
              "      <td>0.639077</td>\n",
              "    </tr>\n",
              "    <tr>\n",
              "      <th>std</th>\n",
              "      <td>48929.917641</td>\n",
              "      <td>5.974305</td>\n",
              "      <td>135.947152</td>\n",
              "      <td>111.985965</td>\n",
              "      <td>1.737739e+05</td>\n",
              "      <td>1.461993e+05</td>\n",
              "      <td>1.603446e+05</td>\n",
              "      <td>102.488268</td>\n",
              "      <td>112.762131</td>\n",
              "      <td>1.857313e+08</td>\n",
              "      <td>...</td>\n",
              "      <td>8.160822</td>\n",
              "      <td>5.831515</td>\n",
              "      <td>11.120754</td>\n",
              "      <td>0.116091</td>\n",
              "      <td>0.116421</td>\n",
              "      <td>0.681854</td>\n",
              "      <td>8.396266</td>\n",
              "      <td>10.874752</td>\n",
              "      <td>0.118618</td>\n",
              "      <td>0.480269</td>\n",
              "    </tr>\n",
              "    <tr>\n",
              "      <th>min</th>\n",
              "      <td>1.000000</td>\n",
              "      <td>0.000000</td>\n",
              "      <td>1.000000</td>\n",
              "      <td>0.000000</td>\n",
              "      <td>2.400000e+01</td>\n",
              "      <td>0.000000e+00</td>\n",
              "      <td>0.000000e+00</td>\n",
              "      <td>0.000000</td>\n",
              "      <td>0.000000</td>\n",
              "      <td>0.000000e+00</td>\n",
              "      <td>...</td>\n",
              "      <td>1.000000</td>\n",
              "      <td>1.000000</td>\n",
              "      <td>1.000000</td>\n",
              "      <td>0.000000</td>\n",
              "      <td>0.000000</td>\n",
              "      <td>0.000000</td>\n",
              "      <td>1.000000</td>\n",
              "      <td>1.000000</td>\n",
              "      <td>0.000000</td>\n",
              "      <td>0.000000</td>\n",
              "    </tr>\n",
              "    <tr>\n",
              "      <th>25%</th>\n",
              "      <td>32210.000000</td>\n",
              "      <td>0.000008</td>\n",
              "      <td>2.000000</td>\n",
              "      <td>0.000000</td>\n",
              "      <td>1.140000e+02</td>\n",
              "      <td>0.000000e+00</td>\n",
              "      <td>3.078928e+01</td>\n",
              "      <td>62.000000</td>\n",
              "      <td>0.000000</td>\n",
              "      <td>1.231800e+04</td>\n",
              "      <td>...</td>\n",
              "      <td>1.000000</td>\n",
              "      <td>1.000000</td>\n",
              "      <td>1.000000</td>\n",
              "      <td>0.000000</td>\n",
              "      <td>0.000000</td>\n",
              "      <td>0.000000</td>\n",
              "      <td>2.000000</td>\n",
              "      <td>2.000000</td>\n",
              "      <td>0.000000</td>\n",
              "      <td>0.000000</td>\n",
              "    </tr>\n",
              "    <tr>\n",
              "      <th>50%</th>\n",
              "      <td>64419.000000</td>\n",
              "      <td>0.004285</td>\n",
              "      <td>4.000000</td>\n",
              "      <td>2.000000</td>\n",
              "      <td>5.280000e+02</td>\n",
              "      <td>1.780000e+02</td>\n",
              "      <td>2.955665e+03</td>\n",
              "      <td>254.000000</td>\n",
              "      <td>29.000000</td>\n",
              "      <td>7.439423e+05</td>\n",
              "      <td>...</td>\n",
              "      <td>1.000000</td>\n",
              "      <td>1.000000</td>\n",
              "      <td>3.000000</td>\n",
              "      <td>0.000000</td>\n",
              "      <td>0.000000</td>\n",
              "      <td>0.000000</td>\n",
              "      <td>3.000000</td>\n",
              "      <td>4.000000</td>\n",
              "      <td>0.000000</td>\n",
              "      <td>1.000000</td>\n",
              "    </tr>\n",
              "    <tr>\n",
              "      <th>75%</th>\n",
              "      <td>110923.000000</td>\n",
              "      <td>0.685777</td>\n",
              "      <td>12.000000</td>\n",
              "      <td>10.000000</td>\n",
              "      <td>1.362000e+03</td>\n",
              "      <td>1.064000e+03</td>\n",
              "      <td>1.250000e+05</td>\n",
              "      <td>254.000000</td>\n",
              "      <td>252.000000</td>\n",
              "      <td>8.000000e+07</td>\n",
              "      <td>...</td>\n",
              "      <td>4.000000</td>\n",
              "      <td>3.000000</td>\n",
              "      <td>8.000000</td>\n",
              "      <td>0.000000</td>\n",
              "      <td>0.000000</td>\n",
              "      <td>0.000000</td>\n",
              "      <td>8.000000</td>\n",
              "      <td>11.000000</td>\n",
              "      <td>0.000000</td>\n",
              "      <td>1.000000</td>\n",
              "    </tr>\n",
              "    <tr>\n",
              "      <th>max</th>\n",
              "      <td>175341.000000</td>\n",
              "      <td>59.999989</td>\n",
              "      <td>10646.000000</td>\n",
              "      <td>11018.000000</td>\n",
              "      <td>1.435577e+07</td>\n",
              "      <td>1.465753e+07</td>\n",
              "      <td>1.000000e+06</td>\n",
              "      <td>255.000000</td>\n",
              "      <td>254.000000</td>\n",
              "      <td>5.988000e+09</td>\n",
              "      <td>...</td>\n",
              "      <td>59.000000</td>\n",
              "      <td>46.000000</td>\n",
              "      <td>65.000000</td>\n",
              "      <td>4.000000</td>\n",
              "      <td>4.000000</td>\n",
              "      <td>30.000000</td>\n",
              "      <td>60.000000</td>\n",
              "      <td>62.000000</td>\n",
              "      <td>1.000000</td>\n",
              "      <td>1.000000</td>\n",
              "    </tr>\n",
              "  </tbody>\n",
              "</table>\n",
              "<p>8 rows × 41 columns</p>\n",
              "</div>\n",
              "      <button class=\"colab-df-convert\" onclick=\"convertToInteractive('df-f64afe40-b116-440e-b391-6b78326ec46d')\"\n",
              "              title=\"Convert this dataframe to an interactive table.\"\n",
              "              style=\"display:none;\">\n",
              "        \n",
              "  <svg xmlns=\"http://www.w3.org/2000/svg\" height=\"24px\"viewBox=\"0 0 24 24\"\n",
              "       width=\"24px\">\n",
              "    <path d=\"M0 0h24v24H0V0z\" fill=\"none\"/>\n",
              "    <path d=\"M18.56 5.44l.94 2.06.94-2.06 2.06-.94-2.06-.94-.94-2.06-.94 2.06-2.06.94zm-11 1L8.5 8.5l.94-2.06 2.06-.94-2.06-.94L8.5 2.5l-.94 2.06-2.06.94zm10 10l.94 2.06.94-2.06 2.06-.94-2.06-.94-.94-2.06-.94 2.06-2.06.94z\"/><path d=\"M17.41 7.96l-1.37-1.37c-.4-.4-.92-.59-1.43-.59-.52 0-1.04.2-1.43.59L10.3 9.45l-7.72 7.72c-.78.78-.78 2.05 0 2.83L4 21.41c.39.39.9.59 1.41.59.51 0 1.02-.2 1.41-.59l7.78-7.78 2.81-2.81c.8-.78.8-2.07 0-2.86zM5.41 20L4 18.59l7.72-7.72 1.47 1.35L5.41 20z\"/>\n",
              "  </svg>\n",
              "      </button>\n",
              "      \n",
              "  <style>\n",
              "    .colab-df-container {\n",
              "      display:flex;\n",
              "      flex-wrap:wrap;\n",
              "      gap: 12px;\n",
              "    }\n",
              "\n",
              "    .colab-df-convert {\n",
              "      background-color: #E8F0FE;\n",
              "      border: none;\n",
              "      border-radius: 50%;\n",
              "      cursor: pointer;\n",
              "      display: none;\n",
              "      fill: #1967D2;\n",
              "      height: 32px;\n",
              "      padding: 0 0 0 0;\n",
              "      width: 32px;\n",
              "    }\n",
              "\n",
              "    .colab-df-convert:hover {\n",
              "      background-color: #E2EBFA;\n",
              "      box-shadow: 0px 1px 2px rgba(60, 64, 67, 0.3), 0px 1px 3px 1px rgba(60, 64, 67, 0.15);\n",
              "      fill: #174EA6;\n",
              "    }\n",
              "\n",
              "    [theme=dark] .colab-df-convert {\n",
              "      background-color: #3B4455;\n",
              "      fill: #D2E3FC;\n",
              "    }\n",
              "\n",
              "    [theme=dark] .colab-df-convert:hover {\n",
              "      background-color: #434B5C;\n",
              "      box-shadow: 0px 1px 3px 1px rgba(0, 0, 0, 0.15);\n",
              "      filter: drop-shadow(0px 1px 2px rgba(0, 0, 0, 0.3));\n",
              "      fill: #FFFFFF;\n",
              "    }\n",
              "  </style>\n",
              "\n",
              "      <script>\n",
              "        const buttonEl =\n",
              "          document.querySelector('#df-f64afe40-b116-440e-b391-6b78326ec46d button.colab-df-convert');\n",
              "        buttonEl.style.display =\n",
              "          google.colab.kernel.accessAllowed ? 'block' : 'none';\n",
              "\n",
              "        async function convertToInteractive(key) {\n",
              "          const element = document.querySelector('#df-f64afe40-b116-440e-b391-6b78326ec46d');\n",
              "          const dataTable =\n",
              "            await google.colab.kernel.invokeFunction('convertToInteractive',\n",
              "                                                     [key], {});\n",
              "          if (!dataTable) return;\n",
              "\n",
              "          const docLinkHtml = 'Like what you see? Visit the ' +\n",
              "            '<a target=\"_blank\" href=https://colab.research.google.com/notebooks/data_table.ipynb>data table notebook</a>'\n",
              "            + ' to learn more about interactive tables.';\n",
              "          element.innerHTML = '';\n",
              "          dataTable['output_type'] = 'display_data';\n",
              "          await google.colab.output.renderOutput(dataTable, element);\n",
              "          const docLink = document.createElement('div');\n",
              "          docLink.innerHTML = docLinkHtml;\n",
              "          element.appendChild(docLink);\n",
              "        }\n",
              "      </script>\n",
              "    </div>\n",
              "  </div>\n",
              "  "
            ]
          },
          "metadata": {},
          "execution_count": 5
        }
      ],
      "source": [
        "data.describe()"
      ]
    },
    {
      "cell_type": "code",
      "execution_count": null,
      "metadata": {
        "id": "TIrggLx8b6fu"
      },
      "outputs": [],
      "source": [
        "#Dropping attack category column since problem is binary classification\n",
        "data.drop(columns = 'label', inplace = True)"
      ]
    },
    {
      "cell_type": "code",
      "execution_count": null,
      "metadata": {
        "id": "neBjoyM-b9pj"
      },
      "outputs": [],
      "source": [
        "#Dropping NaN values\n",
        "data.dropna(inplace = True)"
      ]
    },
    {
      "cell_type": "code",
      "execution_count": null,
      "metadata": {
        "colab": {
          "base_uri": "https://localhost:8080/"
        },
        "id": "JKZBKh6wb_t9",
        "outputId": "b9928084-34b0-40c7-ce38-64745739fdd2"
      },
      "outputs": [
        {
          "output_type": "execute_result",
          "data": {
            "text/plain": [
              "0"
            ]
          },
          "metadata": {},
          "execution_count": 8
        }
      ],
      "source": [
        "#Checking for null values in the dataset\n",
        "data.isnull().sum().sum()"
      ]
    },
    {
      "cell_type": "code",
      "execution_count": null,
      "metadata": {
        "id": "M_7RIewMcGGY"
      },
      "outputs": [],
      "source": [
        "data['service'].replace('-',np.nan,inplace=True)"
      ]
    },
    {
      "cell_type": "code",
      "execution_count": null,
      "metadata": {
        "colab": {
          "base_uri": "https://localhost:8080/"
        },
        "id": "Zygp6p3mcILE",
        "outputId": "b0c9f9be-d4e4-4f9c-b4a7-f1351dd98e84"
      },
      "outputs": [
        {
          "output_type": "execute_result",
          "data": {
            "text/plain": [
              "id                        0\n",
              "dur                       0\n",
              "proto                     0\n",
              "service              141321\n",
              "state                     0\n",
              "spkts                     0\n",
              "dpkts                     0\n",
              "sbytes                    0\n",
              "dbytes                    0\n",
              "rate                      0\n",
              "sttl                      0\n",
              "dttl                      0\n",
              "sload                     0\n",
              "dload                     0\n",
              "sloss                     0\n",
              "dloss                     0\n",
              "sinpkt                    0\n",
              "dinpkt                    0\n",
              "sjit                      0\n",
              "djit                      0\n",
              "swin                      0\n",
              "stcpb                     0\n",
              "dtcpb                     0\n",
              "dwin                      0\n",
              "tcprtt                    0\n",
              "synack                    0\n",
              "ackdat                    0\n",
              "smean                     0\n",
              "dmean                     0\n",
              "trans_depth               0\n",
              "response_body_len         0\n",
              "ct_srv_src                0\n",
              "ct_state_ttl              0\n",
              "ct_dst_ltm                0\n",
              "ct_src_dport_ltm          0\n",
              "ct_dst_sport_ltm          0\n",
              "ct_dst_src_ltm            0\n",
              "is_ftp_login              0\n",
              "ct_ftp_cmd                0\n",
              "ct_flw_http_mthd          0\n",
              "ct_src_ltm                0\n",
              "ct_srv_dst                0\n",
              "is_sm_ips_ports           0\n",
              "attack_cat                0\n",
              "dtype: int64"
            ]
          },
          "metadata": {},
          "execution_count": 10
        }
      ],
      "source": [
        "data.isnull().sum()"
      ]
    },
    {
      "cell_type": "code",
      "execution_count": null,
      "metadata": {
        "id": "5mLo016bcKD5"
      },
      "outputs": [],
      "source": [
        "data.dropna(inplace=True)"
      ]
    },
    {
      "cell_type": "code",
      "execution_count": null,
      "metadata": {
        "colab": {
          "base_uri": "https://localhost:8080/"
        },
        "id": "FVgYBdQTcORs",
        "outputId": "22d53641-84f3-456c-afe4-d788e6074bbe"
      },
      "outputs": [
        {
          "output_type": "execute_result",
          "data": {
            "text/plain": [
              "(116352, 44)"
            ]
          },
          "metadata": {},
          "execution_count": 12
        }
      ],
      "source": [
        "data.shape"
      ]
    },
    {
      "cell_type": "code",
      "execution_count": null,
      "metadata": {
        "id": "HIATjn6xsnBc"
      },
      "outputs": [],
      "source": [
        ""
      ]
    },
    {
      "cell_type": "code",
      "execution_count": null,
      "metadata": {
        "colab": {
          "base_uri": "https://localhost:8080/",
          "height": 482
        },
        "id": "l3ivY_NTsmoX",
        "outputId": "3a93fc1e-8a9d-4bbf-8ce3-92d8c59bb4fe"
      },
      "outputs": [
        {
          "output_type": "display_data",
          "data": {
            "text/plain": [
              "<Figure size 576x576 with 1 Axes>"
            ],
            "image/png": "[encoded data removed]"
          },
          "metadata": {}
        }
      ],
      "source": [
        "plt.figure(figsize=(8,8))\n",
        "plt.pie(data.attack_cat.value_counts(),labels=data.attack_cat.unique(),autopct='%0.2f%%')\n",
        "plt.title('Pie chart distribution of multi-class labels')\n",
        "plt.legend(loc='best')\n",
        "plt.show()"
      ]
    },
    {
      "cell_type": "code",
      "execution_count": null,
      "metadata": {
        "id": "7n3kh-L-tDGk"
      },
      "outputs": [],
      "source": [
        "label_feature = ['label']\n",
        "categorical_features = ['proto', 'service', 'state']\n"
      ]
    },
    {
      "cell_type": "code",
      "execution_count": null,
      "metadata": {
        "id": "ovAtU-owtHMv"
      },
      "outputs": [],
      "source": [
        "drop_features = ['id', 'sttl', 'dttl', 'swin', 'dwin', 'trans_depth', 'response_body_len', 'ct_srv_src', 'ct_state_ttl', 'ct_dst_ltm', 'ct_src_dport_ltm', 'ct_dst_sport_ltm', 'ct_dst_src_ltm', 'is_ftp_login', 'ct_ftp_cmd', 'ct_flw_http_mthd', 'ct_src_ltm', 'ct_srv_dst', 'is_sm_ips_ports', 'attack_cat']\n",
        "numerical_features = list(set(data.columns) - set(label_feature) - set(categorical_features) - set(drop_features))"
      ]
    },
    {
      "cell_type": "code",
      "execution_count": null,
      "metadata": {
        "id": "0_dA6tH5tKQc"
      },
      "outputs": [],
      "source": [
        "scaler = MinMaxScaler()\n",
        "data[numerical_features] = scaler.fit_transform(data[numerical_features])"
      ]
    },
    {
      "cell_type": "code",
      "execution_count": null,
      "metadata": {
        "id": "X-69uttocl6l"
      },
      "outputs": [],
      "source": [
        "serv = OneHotEncoder()\n",
        "pro = OneHotEncoder()\n",
        "sta = OneHotEncoder()\n",
        "\n",
        "def encode(data):\n",
        "\n",
        "    X = serv.fit_transform(data['service'].values.reshape(-1, 1))\n",
        "    X2 = pro.fit_transform(data['proto'].values.reshape(-1, 1))\n",
        "    X3 = sta.fit_transform(data['state'].values.reshape(-1, 1))\n",
        "\n",
        "    data = pd.concat([data,\n",
        "                      pd.DataFrame(X2.toarray(), columns=['proto_'+i for i in pro.categories_[0]]),\n",
        "                      pd.DataFrame(X.toarray(), columns=['service_'+i for i in serv.categories_[0]]),\n",
        "                      pd.DataFrame(X3.toarray(), columns=['state_'+i for i in sta.categories_[0]])],\n",
        "                      axis=1)\n",
        "\n",
        "    data.drop(['proto', 'service', 'state'], axis=1, inplace=True)\n",
        "\n",
        "    return data"
      ]
    },
    {
      "cell_type": "code",
      "execution_count": null,
      "metadata": {
        "colab": {
          "base_uri": "https://localhost:8080/",
          "height": 661
        },
        "id": "jnrBoUwQcqQx",
        "outputId": "b1a1d205-30a5-4f25-a7c9-77032e56002a"
      },
      "outputs": [
        {
          "output_type": "execute_result",
          "data": {
            "text/plain": [
              "            id           dur proto service state     spkts     dpkts  \\\n",
              "0           36  1.639803e-02   tcp    http   FIN  0.000845  0.000726   \n",
              "1           41  2.558777e-02   tcp    http   FIN  0.000845  0.000908   \n",
              "2           46  1.765612e-02   tcp    http   FIN  0.000845  0.000726   \n",
              "3           50  1.650926e-02   tcp    http   FIN  0.000845  0.000908   \n",
              "4           73  2.172547e-02   tcp    http   FIN  0.001033  0.000726   \n",
              "...        ...           ...   ...     ...   ...       ...       ...   \n",
              "116347  175336  1.000008e-07   udp     dns   INT  0.000094  0.000000   \n",
              "116348  175337  1.500012e-07   udp     dns   INT  0.000094  0.000000   \n",
              "116349  175339  1.500012e-07   udp     dns   INT  0.000094  0.000000   \n",
              "116350  175340  1.500012e-07   udp     dns   INT  0.000094  0.000000   \n",
              "116351  175341  1.500012e-07   udp     dns   INT  0.000094  0.000000   \n",
              "\n",
              "          sbytes    dbytes      rate  ...  ct_src_dport_ltm  ct_dst_sport_ltm  \\\n",
              "0       0.000052  0.000080  0.000017  ...                 1                 1   \n",
              "1       0.000053  0.000086  0.000012  ...                 1                 1   \n",
              "2       0.000053  0.000077  0.000016  ...                 1                 1   \n",
              "3       0.000051  0.000096  0.000019  ...                 1                 1   \n",
              "4       0.000058  0.000076  0.000015  ...                 1                 1   \n",
              "...          ...       ...       ...  ...               ...               ...   \n",
              "116347  0.000003  0.000000  0.166667  ...                33                17   \n",
              "116348  0.000003  0.000000  0.111111  ...                24                13   \n",
              "116349  0.000003  0.000000  0.111111  ...                 3                 3   \n",
              "116350  0.000003  0.000000  0.111111  ...                30                14   \n",
              "116351  0.000003  0.000000  0.111111  ...                30                16   \n",
              "\n",
              "        ct_dst_src_ltm  is_ftp_login  ct_ftp_cmd  ct_flw_http_mthd  \\\n",
              "0                    2             0           0                 1   \n",
              "1                    2             0           0                 1   \n",
              "2                    1             0           0                 1   \n",
              "3                    2             0           0                 1   \n",
              "4                    1             0           0                 1   \n",
              "...                ...           ...         ...               ...   \n",
              "116347              45             0           0                 0   \n",
              "116348              24             0           0                 0   \n",
              "116349              13             0           0                 0   \n",
              "116350              30             0           0                 0   \n",
              "116351              30             0           0                 0   \n",
              "\n",
              "        ct_src_ltm  ct_srv_dst  is_sm_ips_ports  attack_cat  \n",
              "0                1           3                0      Normal  \n",
              "1                1           3                0      Normal  \n",
              "2                3           1                0      Normal  \n",
              "3                1           2                0      Normal  \n",
              "4                2           1                0      Normal  \n",
              "...            ...         ...              ...         ...  \n",
              "116347          33          45                0     Generic  \n",
              "116348          24          24                0     Generic  \n",
              "116349           3          12                0     Generic  \n",
              "116350          30          30                0     Generic  \n",
              "116351          30          30                0     Generic  \n",
              "\n",
              "[116352 rows x 44 columns]"
            ],
            "text/html": [
              "\n",
              "  <div id=\"df-54954df7-74e7-4f97-b3bc-a619f3705a1a\">\n",
              "    <div class=\"colab-df-container\">\n",
              "      <div>\n",
              "<style scoped>\n",
              "    .dataframe tbody tr th:only-of-type {\n",
              "        vertical-align: middle;\n",
              "    }\n",
              "\n",
              "    .dataframe tbody tr th {\n",
              "        vertical-align: top;\n",
              "    }\n",
              "\n",
              "    .dataframe thead th {\n",
              "        text-align: right;\n",
              "    }\n",
              "</style>\n",
              "<table border=\"1\" class=\"dataframe\">\n",
              "  <thead>\n",
              "    <tr style=\"text-align: right;\">\n",
              "      <th></th>\n",
              "      <th>id</th>\n",
              "      <th>dur</th>\n",
              "      <th>proto</th>\n",
              "      <th>service</th>\n",
              "      <th>state</th>\n",
              "      <th>spkts</th>\n",
              "      <th>dpkts</th>\n",
              "      <th>sbytes</th>\n",
              "      <th>dbytes</th>\n",
              "      <th>rate</th>\n",
              "      <th>...</th>\n",
              "      <th>ct_src_dport_ltm</th>\n",
              "      <th>ct_dst_sport_ltm</th>\n",
              "      <th>ct_dst_src_ltm</th>\n",
              "      <th>is_ftp_login</th>\n",
              "      <th>ct_ftp_cmd</th>\n",
              "      <th>ct_flw_http_mthd</th>\n",
              "      <th>ct_src_ltm</th>\n",
              "      <th>ct_srv_dst</th>\n",
              "      <th>is_sm_ips_ports</th>\n",
              "      <th>attack_cat</th>\n",
              "    </tr>\n",
              "  </thead>\n",
              "  <tbody>\n",
              "    <tr>\n",
              "      <th>0</th>\n",
              "      <td>36</td>\n",
              "      <td>1.639803e-02</td>\n",
              "      <td>tcp</td>\n",
              "      <td>http</td>\n",
              "      <td>FIN</td>\n",
              "      <td>0.000845</td>\n",
              "      <td>0.000726</td>\n",
              "      <td>0.000052</td>\n",
              "      <td>0.000080</td>\n",
              "      <td>0.000017</td>\n",
              "      <td>...</td>\n",
              "      <td>1</td>\n",
              "      <td>1</td>\n",
              "      <td>2</td>\n",
              "      <td>0</td>\n",
              "      <td>0</td>\n",
              "      <td>1</td>\n",
              "      <td>1</td>\n",
              "      <td>3</td>\n",
              "      <td>0</td>\n",
              "      <td>Normal</td>\n",
              "    </tr>\n",
              "    <tr>\n",
              "      <th>1</th>\n",
              "      <td>41</td>\n",
              "      <td>2.558777e-02</td>\n",
              "      <td>tcp</td>\n",
              "      <td>http</td>\n",
              "      <td>FIN</td>\n",
              "      <td>0.000845</td>\n",
              "      <td>0.000908</td>\n",
              "      <td>0.000053</td>\n",
              "      <td>0.000086</td>\n",
              "      <td>0.000012</td>\n",
              "      <td>...</td>\n",
              "      <td>1</td>\n",
              "      <td>1</td>\n",
              "      <td>2</td>\n",
              "      <td>0</td>\n",
              "      <td>0</td>\n",
              "      <td>1</td>\n",
              "      <td>1</td>\n",
              "      <td>3</td>\n",
              "      <td>0</td>\n",
              "      <td>Normal</td>\n",
              "    </tr>\n",
              "    <tr>\n",
              "      <th>2</th>\n",
              "      <td>46</td>\n",
              "      <td>1.765612e-02</td>\n",
              "      <td>tcp</td>\n",
              "      <td>http</td>\n",
              "      <td>FIN</td>\n",
              "      <td>0.000845</td>\n",
              "      <td>0.000726</td>\n",
              "      <td>0.000053</td>\n",
              "      <td>0.000077</td>\n",
              "      <td>0.000016</td>\n",
              "      <td>...</td>\n",
              "      <td>1</td>\n",
              "      <td>1</td>\n",
              "      <td>1</td>\n",
              "      <td>0</td>\n",
              "      <td>0</td>\n",
              "      <td>1</td>\n",
              "      <td>3</td>\n",
              "      <td>1</td>\n",
              "      <td>0</td>\n",
              "      <td>Normal</td>\n",
              "    </tr>\n",
              "    <tr>\n",
              "      <th>3</th>\n",
              "      <td>50</td>\n",
              "      <td>1.650926e-02</td>\n",
              "      <td>tcp</td>\n",
              "      <td>http</td>\n",
              "      <td>FIN</td>\n",
              "      <td>0.000845</td>\n",
              "      <td>0.000908</td>\n",
              "      <td>0.000051</td>\n",
              "      <td>0.000096</td>\n",
              "      <td>0.000019</td>\n",
              "      <td>...</td>\n",
              "      <td>1</td>\n",
              "      <td>1</td>\n",
              "      <td>2</td>\n",
              "      <td>0</td>\n",
              "      <td>0</td>\n",
              "      <td>1</td>\n",
              "      <td>1</td>\n",
              "      <td>2</td>\n",
              "      <td>0</td>\n",
              "      <td>Normal</td>\n",
              "    </tr>\n",
              "    <tr>\n",
              "      <th>4</th>\n",
              "      <td>73</td>\n",
              "      <td>2.172547e-02</td>\n",
              "      <td>tcp</td>\n",
              "      <td>http</td>\n",
              "      <td>FIN</td>\n",
              "      <td>0.001033</td>\n",
              "      <td>0.000726</td>\n",
              "      <td>0.000058</td>\n",
              "      <td>0.000076</td>\n",
              "      <td>0.000015</td>\n",
              "      <td>...</td>\n",
              "      <td>1</td>\n",
              "      <td>1</td>\n",
              "      <td>1</td>\n",
              "      <td>0</td>\n",
              "      <td>0</td>\n",
              "      <td>1</td>\n",
              "      <td>2</td>\n",
              "      <td>1</td>\n",
              "      <td>0</td>\n",
              "      <td>Normal</td>\n",
              "    </tr>\n",
              "    <tr>\n",
              "      <th>...</th>\n",
              "      <td>...</td>\n",
              "      <td>...</td>\n",
              "      <td>...</td>\n",
              "      <td>...</td>\n",
              "      <td>...</td>\n",
              "      <td>...</td>\n",
              "      <td>...</td>\n",
              "      <td>...</td>\n",
              "      <td>...</td>\n",
              "      <td>...</td>\n",
              "      <td>...</td>\n",
              "      <td>...</td>\n",
              "      <td>...</td>\n",
              "      <td>...</td>\n",
              "      <td>...</td>\n",
              "      <td>...</td>\n",
              "      <td>...</td>\n",
              "      <td>...</td>\n",
              "      <td>...</td>\n",
              "      <td>...</td>\n",
              "      <td>...</td>\n",
              "    </tr>\n",
              "    <tr>\n",
              "      <th>116347</th>\n",
              "      <td>175336</td>\n",
              "      <td>1.000008e-07</td>\n",
              "      <td>udp</td>\n",
              "      <td>dns</td>\n",
              "      <td>INT</td>\n",
              "      <td>0.000094</td>\n",
              "      <td>0.000000</td>\n",
              "      <td>0.000003</td>\n",
              "      <td>0.000000</td>\n",
              "      <td>0.166667</td>\n",
              "      <td>...</td>\n",
              "      <td>33</td>\n",
              "      <td>17</td>\n",
              "      <td>45</td>\n",
              "      <td>0</td>\n",
              "      <td>0</td>\n",
              "      <td>0</td>\n",
              "      <td>33</td>\n",
              "      <td>45</td>\n",
              "      <td>0</td>\n",
              "      <td>Generic</td>\n",
              "    </tr>\n",
              "    <tr>\n",
              "      <th>116348</th>\n",
              "      <td>175337</td>\n",
              "      <td>1.500012e-07</td>\n",
              "      <td>udp</td>\n",
              "      <td>dns</td>\n",
              "      <td>INT</td>\n",
              "      <td>0.000094</td>\n",
              "      <td>0.000000</td>\n",
              "      <td>0.000003</td>\n",
              "      <td>0.000000</td>\n",
              "      <td>0.111111</td>\n",
              "      <td>...</td>\n",
              "      <td>24</td>\n",
              "      <td>13</td>\n",
              "      <td>24</td>\n",
              "      <td>0</td>\n",
              "      <td>0</td>\n",
              "      <td>0</td>\n",
              "      <td>24</td>\n",
              "      <td>24</td>\n",
              "      <td>0</td>\n",
              "      <td>Generic</td>\n",
              "    </tr>\n",
              "    <tr>\n",
              "      <th>116349</th>\n",
              "      <td>175339</td>\n",
              "      <td>1.500012e-07</td>\n",
              "      <td>udp</td>\n",
              "      <td>dns</td>\n",
              "      <td>INT</td>\n",
              "      <td>0.000094</td>\n",
              "      <td>0.000000</td>\n",
              "      <td>0.000003</td>\n",
              "      <td>0.000000</td>\n",
              "      <td>0.111111</td>\n",
              "      <td>...</td>\n",
              "      <td>3</td>\n",
              "      <td>3</td>\n",
              "      <td>13</td>\n",
              "      <td>0</td>\n",
              "      <td>0</td>\n",
              "      <td>0</td>\n",
              "      <td>3</td>\n",
              "      <td>12</td>\n",
              "      <td>0</td>\n",
              "      <td>Generic</td>\n",
              "    </tr>\n",
              "    <tr>\n",
              "      <th>116350</th>\n",
              "      <td>175340</td>\n",
              "      <td>1.500012e-07</td>\n",
              "      <td>udp</td>\n",
              "      <td>dns</td>\n",
              "      <td>INT</td>\n",
              "      <td>0.000094</td>\n",
              "      <td>0.000000</td>\n",
              "      <td>0.000003</td>\n",
              "      <td>0.000000</td>\n",
              "      <td>0.111111</td>\n",
              "      <td>...</td>\n",
              "      <td>30</td>\n",
              "      <td>14</td>\n",
              "      <td>30</td>\n",
              "      <td>0</td>\n",
              "      <td>0</td>\n",
              "      <td>0</td>\n",
              "      <td>30</td>\n",
              "      <td>30</td>\n",
              "      <td>0</td>\n",
              "      <td>Generic</td>\n",
              "    </tr>\n",
              "    <tr>\n",
              "      <th>116351</th>\n",
              "      <td>175341</td>\n",
              "      <td>1.500012e-07</td>\n",
              "      <td>udp</td>\n",
              "      <td>dns</td>\n",
              "      <td>INT</td>\n",
              "      <td>0.000094</td>\n",
              "      <td>0.000000</td>\n",
              "      <td>0.000003</td>\n",
              "      <td>0.000000</td>\n",
              "      <td>0.111111</td>\n",
              "      <td>...</td>\n",
              "      <td>30</td>\n",
              "      <td>16</td>\n",
              "      <td>30</td>\n",
              "      <td>0</td>\n",
              "      <td>0</td>\n",
              "      <td>0</td>\n",
              "      <td>30</td>\n",
              "      <td>30</td>\n",
              "      <td>0</td>\n",
              "      <td>Generic</td>\n",
              "    </tr>\n",
              "  </tbody>\n",
              "</table>\n",
              "<p>116352 rows × 44 columns</p>\n",
              "</div>\n",
              "      <button class=\"colab-df-convert\" onclick=\"convertToInteractive('df-54954df7-74e7-4f97-b3bc-a619f3705a1a')\"\n",
              "              title=\"Convert this dataframe to an interactive table.\"\n",
              "              style=\"display:none;\">\n",
              "        \n",
              "  <svg xmlns=\"http://www.w3.org/2000/svg\" height=\"24px\"viewBox=\"0 0 24 24\"\n",
              "       width=\"24px\">\n",
              "    <path d=\"M0 0h24v24H0V0z\" fill=\"none\"/>\n",
              "    <path d=\"M18.56 5.44l.94 2.06.94-2.06 2.06-.94-2.06-.94-.94-2.06-.94 2.06-2.06.94zm-11 1L8.5 8.5l.94-2.06 2.06-.94-2.06-.94L8.5 2.5l-.94 2.06-2.06.94zm10 10l.94 2.06.94-2.06 2.06-.94-2.06-.94-.94-2.06-.94 2.06-2.06.94z\"/><path d=\"M17.41 7.96l-1.37-1.37c-.4-.4-.92-.59-1.43-.59-.52 0-1.04.2-1.43.59L10.3 9.45l-7.72 7.72c-.78.78-.78 2.05 0 2.83L4 21.41c.39.39.9.59 1.41.59.51 0 1.02-.2 1.41-.59l7.78-7.78 2.81-2.81c.8-.78.8-2.07 0-2.86zM5.41 20L4 18.59l7.72-7.72 1.47 1.35L5.41 20z\"/>\n",
              "  </svg>\n",
              "      </button>\n",
              "      \n",
              "  <style>\n",
              "    .colab-df-container {\n",
              "      display:flex;\n",
              "      flex-wrap:wrap;\n",
              "      gap: 12px;\n",
              "    }\n",
              "\n",
              "    .colab-df-convert {\n",
              "      background-color: #E8F0FE;\n",
              "      border: none;\n",
              "      border-radius: 50%;\n",
              "      cursor: pointer;\n",
              "      display: none;\n",
              "      fill: #1967D2;\n",
              "      height: 32px;\n",
              "      padding: 0 0 0 0;\n",
              "      width: 32px;\n",
              "    }\n",
              "\n",
              "    .colab-df-convert:hover {\n",
              "      background-color: #E2EBFA;\n",
              "      box-shadow: 0px 1px 2px rgba(60, 64, 67, 0.3), 0px 1px 3px 1px rgba(60, 64, 67, 0.15);\n",
              "      fill: #174EA6;\n",
              "    }\n",
              "\n",
              "    [theme=dark] .colab-df-convert {\n",
              "      background-color: #3B4455;\n",
              "      fill: #D2E3FC;\n",
              "    }\n",
              "\n",
              "    [theme=dark] .colab-df-convert:hover {\n",
              "      background-color: #434B5C;\n",
              "      box-shadow: 0px 1px 3px 1px rgba(0, 0, 0, 0.15);\n",
              "      filter: drop-shadow(0px 1px 2px rgba(0, 0, 0, 0.3));\n",
              "      fill: #FFFFFF;\n",
              "    }\n",
              "  </style>\n",
              "\n",
              "      <script>\n",
              "        const buttonEl =\n",
              "          document.querySelector('#df-54954df7-74e7-4f97-b3bc-a619f3705a1a button.colab-df-convert');\n",
              "        buttonEl.style.display =\n",
              "          google.colab.kernel.accessAllowed ? 'block' : 'none';\n",
              "\n",
              "        async function convertToInteractive(key) {\n",
              "          const element = document.querySelector('#df-54954df7-74e7-4f97-b3bc-a619f3705a1a');\n",
              "          const dataTable =\n",
              "            await google.colab.kernel.invokeFunction('convertToInteractive',\n",
              "                                                     [key], {});\n",
              "          if (!dataTable) return;\n",
              "\n",
              "          const docLinkHtml = 'Like what you see? Visit the ' +\n",
              "            '<a target=\"_blank\" href=https://colab.research.google.com/notebooks/data_table.ipynb>data table notebook</a>'\n",
              "            + ' to learn more about interactive tables.';\n",
              "          element.innerHTML = '';\n",
              "          dataTable['output_type'] = 'display_data';\n",
              "          await google.colab.output.renderOutput(dataTable, element);\n",
              "          const docLink = document.createElement('div');\n",
              "          docLink.innerHTML = docLinkHtml;\n",
              "          element.appendChild(docLink);\n",
              "        }\n",
              "      </script>\n",
              "    </div>\n",
              "  </div>\n",
              "  "
            ]
          },
          "metadata": {},
          "execution_count": 18
        }
      ],
      "source": [
        "data.reset_index(drop=True)"
      ]
    },
    {
      "cell_type": "code",
      "execution_count": null,
      "metadata": {
        "colab": {
          "base_uri": "https://localhost:8080/"
        },
        "id": "BKMPs8b0cth-",
        "outputId": "15aa1378-b289-4f1a-d6d9-883fe20af7d7"
      },
      "outputs": [
        {
          "output_type": "execute_result",
          "data": {
            "text/plain": [
              "(116352, 44)"
            ]
          },
          "metadata": {},
          "execution_count": 19
        }
      ],
      "source": [
        "data.shape"
      ]
    },
    {
      "cell_type": "code",
      "execution_count": null,
      "metadata": {
        "colab": {
          "base_uri": "https://localhost:8080/",
          "height": 206
        },
        "id": "lWUR2PwXcwFh",
        "outputId": "68d0b14a-0b80-4336-bdb0-0591c299da26"
      },
      "outputs": [
        {
          "output_type": "execute_result",
          "data": {
            "text/plain": [
              "   proto service state\n",
              "35   tcp    http   FIN\n",
              "40   tcp    http   FIN\n",
              "45   tcp    http   FIN\n",
              "49   tcp    http   FIN\n",
              "72   tcp    http   FIN"
            ],
            "text/html": [
              "\n",
              "  <div id=\"df-275949a4-578e-4d93-b3fb-9f52297e550b\">\n",
              "    <div class=\"colab-df-container\">\n",
              "      <div>\n",
              "<style scoped>\n",
              "    .dataframe tbody tr th:only-of-type {\n",
              "        vertical-align: middle;\n",
              "    }\n",
              "\n",
              "    .dataframe tbody tr th {\n",
              "        vertical-align: top;\n",
              "    }\n",
              "\n",
              "    .dataframe thead th {\n",
              "        text-align: right;\n",
              "    }\n",
              "</style>\n",
              "<table border=\"1\" class=\"dataframe\">\n",
              "  <thead>\n",
              "    <tr style=\"text-align: right;\">\n",
              "      <th></th>\n",
              "      <th>proto</th>\n",
              "      <th>service</th>\n",
              "      <th>state</th>\n",
              "    </tr>\n",
              "  </thead>\n",
              "  <tbody>\n",
              "    <tr>\n",
              "      <th>35</th>\n",
              "      <td>tcp</td>\n",
              "      <td>http</td>\n",
              "      <td>FIN</td>\n",
              "    </tr>\n",
              "    <tr>\n",
              "      <th>40</th>\n",
              "      <td>tcp</td>\n",
              "      <td>http</td>\n",
              "      <td>FIN</td>\n",
              "    </tr>\n",
              "    <tr>\n",
              "      <th>45</th>\n",
              "      <td>tcp</td>\n",
              "      <td>http</td>\n",
              "      <td>FIN</td>\n",
              "    </tr>\n",
              "    <tr>\n",
              "      <th>49</th>\n",
              "      <td>tcp</td>\n",
              "      <td>http</td>\n",
              "      <td>FIN</td>\n",
              "    </tr>\n",
              "    <tr>\n",
              "      <th>72</th>\n",
              "      <td>tcp</td>\n",
              "      <td>http</td>\n",
              "      <td>FIN</td>\n",
              "    </tr>\n",
              "  </tbody>\n",
              "</table>\n",
              "</div>\n",
              "      <button class=\"colab-df-convert\" onclick=\"convertToInteractive('df-275949a4-578e-4d93-b3fb-9f52297e550b')\"\n",
              "              title=\"Convert this dataframe to an interactive table.\"\n",
              "              style=\"display:none;\">\n",
              "        \n",
              "  <svg xmlns=\"http://www.w3.org/2000/svg\" height=\"24px\"viewBox=\"0 0 24 24\"\n",
              "       width=\"24px\">\n",
              "    <path d=\"M0 0h24v24H0V0z\" fill=\"none\"/>\n",
              "    <path d=\"M18.56 5.44l.94 2.06.94-2.06 2.06-.94-2.06-.94-.94-2.06-.94 2.06-2.06.94zm-11 1L8.5 8.5l.94-2.06 2.06-.94-2.06-.94L8.5 2.5l-.94 2.06-2.06.94zm10 10l.94 2.06.94-2.06 2.06-.94-2.06-.94-.94-2.06-.94 2.06-2.06.94z\"/><path d=\"M17.41 7.96l-1.37-1.37c-.4-.4-.92-.59-1.43-.59-.52 0-1.04.2-1.43.59L10.3 9.45l-7.72 7.72c-.78.78-.78 2.05 0 2.83L4 21.41c.39.39.9.59 1.41.59.51 0 1.02-.2 1.41-.59l7.78-7.78 2.81-2.81c.8-.78.8-2.07 0-2.86zM5.41 20L4 18.59l7.72-7.72 1.47 1.35L5.41 20z\"/>\n",
              "  </svg>\n",
              "      </button>\n",
              "      \n",
              "  <style>\n",
              "    .colab-df-container {\n",
              "      display:flex;\n",
              "      flex-wrap:wrap;\n",
              "      gap: 12px;\n",
              "    }\n",
              "\n",
              "    .colab-df-convert {\n",
              "      background-color: #E8F0FE;\n",
              "      border: none;\n",
              "      border-radius: 50%;\n",
              "      cursor: pointer;\n",
              "      display: none;\n",
              "      fill: #1967D2;\n",
              "      height: 32px;\n",
              "      padding: 0 0 0 0;\n",
              "      width: 32px;\n",
              "    }\n",
              "\n",
              "    .colab-df-convert:hover {\n",
              "      background-color: #E2EBFA;\n",
              "      box-shadow: 0px 1px 2px rgba(60, 64, 67, 0.3), 0px 1px 3px 1px rgba(60, 64, 67, 0.15);\n",
              "      fill: #174EA6;\n",
              "    }\n",
              "\n",
              "    [theme=dark] .colab-df-convert {\n",
              "      background-color: #3B4455;\n",
              "      fill: #D2E3FC;\n",
              "    }\n",
              "\n",
              "    [theme=dark] .colab-df-convert:hover {\n",
              "      background-color: #434B5C;\n",
              "      box-shadow: 0px 1px 3px 1px rgba(0, 0, 0, 0.15);\n",
              "      filter: drop-shadow(0px 1px 2px rgba(0, 0, 0, 0.3));\n",
              "      fill: #FFFFFF;\n",
              "    }\n",
              "  </style>\n",
              "\n",
              "      <script>\n",
              "        const buttonEl =\n",
              "          document.querySelector('#df-275949a4-578e-4d93-b3fb-9f52297e550b button.colab-df-convert');\n",
              "        buttonEl.style.display =\n",
              "          google.colab.kernel.accessAllowed ? 'block' : 'none';\n",
              "\n",
              "        async function convertToInteractive(key) {\n",
              "          const element = document.querySelector('#df-275949a4-578e-4d93-b3fb-9f52297e550b');\n",
              "          const dataTable =\n",
              "            await google.colab.kernel.invokeFunction('convertToInteractive',\n",
              "                                                     [key], {});\n",
              "          if (!dataTable) return;\n",
              "\n",
              "          const docLinkHtml = 'Like what you see? Visit the ' +\n",
              "            '<a target=\"_blank\" href=https://colab.research.google.com/notebooks/data_table.ipynb>data table notebook</a>'\n",
              "            + ' to learn more about interactive tables.';\n",
              "          element.innerHTML = '';\n",
              "          dataTable['output_type'] = 'display_data';\n",
              "          await google.colab.output.renderOutput(dataTable, element);\n",
              "          const docLink = document.createElement('div');\n",
              "          docLink.innerHTML = docLinkHtml;\n",
              "          element.appendChild(docLink);\n",
              "        }\n",
              "      </script>\n",
              "    </div>\n",
              "  </div>\n",
              "  "
            ]
          },
          "metadata": {},
          "execution_count": 20
        }
      ],
      "source": [
        "catval = ['proto', 'service', 'state']\n",
        "data_cat = data[catval].copy()\n",
        "data_cat.head()"
      ]
    },
    {
      "cell_type": "code",
      "execution_count": null,
      "metadata": {
        "id": "2LMoz1HccyOr"
      },
      "outputs": [],
      "source": [
        "data_cat = pd.get_dummies(data_cat,columns=catval)\n",
        "data = pd.concat([data, data_cat],axis=1)"
      ]
    },
    {
      "cell_type": "code",
      "execution_count": null,
      "metadata": {
        "id": "7cIYRi4wc1OS"
      },
      "outputs": [],
      "source": [
        "data.drop(columns=catval,inplace=True)"
      ]
    },
    {
      "cell_type": "code",
      "execution_count": null,
      "metadata": {
        "id": "UJD-D9HIvH0s"
      },
      "outputs": [],
      "source": [
        "# one-hot-encoding attack label\n",
        "multi_data = data.copy()\n",
        "multi_label = pd.DataFrame(multi_data.attack_cat)"
      ]
    },
    {
      "cell_type": "code",
      "execution_count": null,
      "metadata": {
        "id": "gnRpbvIwvL0C"
      },
      "outputs": [],
      "source": [
        "multi_data = pd.get_dummies(multi_data,columns=['attack_cat'])"
      ]
    },
    {
      "cell_type": "code",
      "execution_count": null,
      "metadata": {
        "id": "FymCDljOvOer"
      },
      "outputs": [],
      "source": [
        "# label encoding (0,1,2,3,4,5,6,7,8) multi-class labels\n",
        "le2 = preprocessing.LabelEncoder()\n",
        "enc_label = multi_label.apply(le2.fit_transform)\n",
        "multi_data['label'] = enc_label"
      ]
    },
    {
      "cell_type": "code",
      "execution_count": null,
      "metadata": {
        "colab": {
          "base_uri": "https://localhost:8080/"
        },
        "id": "T3wLXJISvRQB",
        "outputId": "d1bfc786-5ed9-4e10-b810-508ddcf6dae5"
      },
      "outputs": [
        {
          "output_type": "execute_result",
          "data": {
            "text/plain": [
              "array(['Analysis', 'Backdoor', 'DoS', 'Exploits', 'Fuzzers', 'Generic',\n",
              "       'Normal', 'Reconnaissance', 'Worms'], dtype=object)"
            ]
          },
          "metadata": {},
          "execution_count": 26
        }
      ],
      "source": [
        "le2.classes_"
      ]
    },
    {
      "cell_type": "code",
      "execution_count": null,
      "metadata": {
        "id": "_QhWmVENvTWf"
      },
      "outputs": [],
      "source": [
        "np.save(\"le2_classes.npy\",le2.classes_,allow_pickle=True)"
      ]
    },
    {
      "cell_type": "code",
      "execution_count": null,
      "metadata": {
        "colab": {
          "base_uri": "https://localhost:8080/"
        },
        "id": "0Y4fX7u4ZUKb",
        "outputId": "59e59ee0-db5b-4066-fd66-3422a2551315"
      },
      "outputs": [
        {
          "output_type": "execute_result",
          "data": {
            "text/plain": [
              "35        6\n",
              "40        6\n",
              "45        6\n",
              "49        6\n",
              "72        6\n",
              "         ..\n",
              "175335    5\n",
              "175336    5\n",
              "175338    5\n",
              "175339    5\n",
              "175340    5\n",
              "Name: label, Length: 116352, dtype: int64"
            ]
          },
          "metadata": {},
          "execution_count": 28
        }
      ],
      "source": [
        "multi_data.label"
      ]
    },
    {
      "cell_type": "code",
      "execution_count": null,
      "metadata": {
        "id": "d6jmt6OSc3Sr"
      },
      "outputs": [],
      "source": [
        "X = data.drop(columns=['attack_cat'],axis=1)\n",
        "Y = multi_data['label']"
      ]
    },
    {
      "cell_type": "code",
      "execution_count": null,
      "metadata": {
        "colab": {
          "base_uri": "https://localhost:8080/"
        },
        "id": "8msfQDnFcB6L",
        "outputId": "bfd1ac5a-eeb4-43c1-c8ef-0f30c8052b8d"
      },
      "outputs": [
        {
          "output_type": "execute_result",
          "data": {
            "text/plain": [
              "5    57956\n",
              "6    29113\n",
              "3    21480\n",
              "2     2508\n",
              "4     2266\n",
              "7     2207\n",
              "0      564\n",
              "8      148\n",
              "1      110\n",
              "Name: label, dtype: int64"
            ]
          },
          "metadata": {},
          "execution_count": 30
        }
      ],
      "source": [
        "Y.value_counts()"
      ]
    },
    {
      "cell_type": "code",
      "execution_count": null,
      "metadata": {
        "colab": {
          "base_uri": "https://localhost:8080/"
        },
        "id": "bRcGAg1JcVBT",
        "outputId": "f326a654-bb30-47d5-dc88-c01fb530ad60"
      },
      "outputs": [
        {
          "output_type": "execute_result",
          "data": {
            "text/plain": [
              "Generic           57956\n",
              "Normal            29113\n",
              "Exploits          21480\n",
              "DoS                2508\n",
              "Fuzzers            2266\n",
              "Reconnaissance     2207\n",
              "Analysis            564\n",
              "Worms               148\n",
              "Backdoor            110\n",
              "Name: attack_cat, dtype: int64"
            ]
          },
          "metadata": {},
          "execution_count": 31
        }
      ],
      "source": [
        "data.attack_cat.value_counts()"
      ]
    },
    {
      "cell_type": "code",
      "execution_count": null,
      "metadata": {
        "id": "zx9ynSELc6d5"
      },
      "outputs": [],
      "source": [
        "X_train,X_test,y_train,y_test = train_test_split(X,Y,test_size=0.20, random_state=50)"
      ]
    },
    {
      "cell_type": "code",
      "execution_count": null,
      "metadata": {
        "id": "E5nNS5xRc9TF"
      },
      "outputs": [],
      "source": [
        "#ANOVA Feature selection\n",
        "def select_features(X_train, y_train, X_test):\n",
        "\t# configure to select a subset of features\n",
        "\tfs = SelectKBest(score_func=f_classif, k=15)\n",
        "\t# learn relationship from training data\n",
        "\tfs.fit(X_train, y_train)\n",
        "\t# transform train input data\n",
        "\tX_train_fs = fs.transform(X_train)\n",
        "\t# transform test input data\n",
        "\tX_test_fs = fs.transform(X_test)\n",
        "\treturn X_train_fs, X_test_fs, fs"
      ]
    },
    {
      "cell_type": "code",
      "execution_count": null,
      "metadata": {
        "colab": {
          "base_uri": "https://localhost:8080/"
        },
        "id": "xJeX2ENWdAhJ",
        "outputId": "8293f149-eda3-44f3-f452-eff5166c40bc"
      },
      "outputs": [
        {
          "output_type": "stream",
          "name": "stderr",
          "text": [
            "/usr/local/lib/python3.7/dist-packages/sklearn/feature_selection/_univariate_selection.py:112: UserWarning: Features [39] are constant.\n",
            "  warnings.warn(\"Features %s are constant.\" % constant_features_idx, UserWarning)\n",
            "/usr/local/lib/python3.7/dist-packages/sklearn/feature_selection/_univariate_selection.py:113: RuntimeWarning: invalid value encountered in true_divide\n",
            "  f = msb / msw\n"
          ]
        }
      ],
      "source": [
        "X_train_fs, X_test_fs, fs = select_features(X_train, y_train, X_test)"
      ]
    },
    {
      "cell_type": "code",
      "execution_count": null,
      "metadata": {
        "id": "EPhU4i9TdDPl"
      },
      "outputs": [],
      "source": [
        "#Evaluation Metrics for the Multilayer Perceptrons\n",
        "class FalsePositiveRate(tf.keras.metrics.Metric):\n",
        "    def __init__(self, name='false_positive_rate', **kwargs):\n",
        "        super(FalsePositiveRate, self).__init__(name=name, **kwargs)\n",
        "        self.negatives = self.add_weight(name='negatives', initializer='zeros')\n",
        "        self.false_positives = self.add_weight(name='false_negatives', initializer='zeros')\n",
        "        \n",
        "    def update_state(self, y_true, y_pred, sample_weight=None):\n",
        "        y_true = tf.cast(y_true, tf.bool)\n",
        "        \n",
        "        negatives = tf.reduce_sum(tf.cast(tf.equal(y_true, False), self.dtype))\n",
        "        \n",
        "        self.negatives.assign_add(negatives)\n",
        "        \n",
        "        y_pred = tf.greater_equal(y_pred, 0.5)\n",
        "        \n",
        "        false_positive_values = tf.logical_and(tf.equal(y_true, False), tf.equal(y_pred, True)) \n",
        "        false_positive_values = tf.cast(false_positive_values, self.dtype)\n",
        "        if sample_weight is not None:\n",
        "            sample_weight = tf.cast(sample_weight, self.dtype)\n",
        "            sample_weight = tf.broadcast_weights(sample_weight, values)\n",
        "            values = tf.multiply(false_positive_values, sample_weight)\n",
        "        \n",
        "        false_positives = tf.reduce_sum(false_positive_values)\n",
        "        \n",
        "        self.false_positives.assign_add(false_positives)\n",
        "        \n",
        "    def result(self):\n",
        "        return tf.divide(self.false_positives, self.negatives)"
      ]
    },
    {
      "cell_type": "code",
      "execution_count": null,
      "metadata": {
        "id": "vA9nUoTqdQoa"
      },
      "outputs": [],
      "source": [
        "#Evaluation Metrics for the Multilayer Perceptrons\n",
        "def plot_loss(model_history):\n",
        "  train_loss=[value for key, value in model_history.items() if 'loss' in key.lower()][0]\n",
        "  valid_loss=[value for key, value in model_history.items() if 'loss' in key.lower()][1]\n",
        "  fig, ax1 = plt.subplots()\n",
        "  color = 'tab:blue'\n",
        "  ax1.set_xlabel('Epoch')\n",
        "  ax1.set_ylabel('Loss', color=color)\n",
        "  ax1.plot(train_loss, '--', color=color, label='Train Loss')\n",
        "  ax1.plot(valid_loss, color=color, label='Valid Loss')\n",
        "  ax1.tick_params(axis='y', labelcolor=color)\n",
        "  plt.legend(loc='upper left')\n",
        "  plt.title('Model Loss')\n",
        "  plt.show()"
      ]
    },
    {
      "cell_type": "code",
      "execution_count": null,
      "metadata": {
        "id": "C8DSdrAhdbno"
      },
      "outputs": [],
      "source": [
        "#Evaluation Metrics for the Multilayer Perceptrons\n",
        "def plot_model_recall_fpr(model_history):\n",
        "  train_recall=[value for key, value in model_history.items() if 'recall' in key.lower()][0]\n",
        "  valid_recall=[value for key, value in model_history.items() if 'recall' in key.lower()][1]\n",
        "  train_fpr=[value for key, value in model_history.items() if 'false_positive_rate' in key.lower()][0]\n",
        "  valid_fpr=[value for key, value in model_history.items() if 'false_positive_rate' in key.lower()][1]\n",
        "  fig, ax1 = plt.subplots()\n",
        "  color = 'tab:red'\n",
        "  ax1.set_xlabel('Epoch')\n",
        "  ax1.set_ylabel('Recall', color=color)\n",
        "  ax1.set_ylim([-0.05,1.05])\n",
        "  ax1.plot(train_recall, '--', color=color, label='Train Recall')\n",
        "  ax1.plot(valid_recall, color=color, label='Valid Recall')\n",
        "  ax1.tick_params(axis='y', labelcolor=color)\n",
        "  plt.legend(loc='upper left')\n",
        "  plt.title('Model Recall and FPR')\n",
        "  ax2 = ax1.twinx()  # instantiate a second axes that shares the same x-axis\n",
        "  color = 'tab:blue'\n",
        "  ax2.set_ylabel('False Positive Rate', color=color)  # we already handled the x-label with ax1\n",
        "  ax2.plot(train_fpr, '--', color=color, label='Train FPR')\n",
        "  ax2.plot(valid_fpr, color=color, label='Valid FPR')\n",
        "  ax2.tick_params(axis='y', labelcolor=color)\n",
        "  ax2.set_ylim([-0.05,1.05])\n",
        "  fig.tight_layout()  # otherwise the right y-label is slightly clipped\n",
        "  plt.legend(loc='upper right')\n",
        "  plt.show()"
      ]
    },
    {
      "cell_type": "code",
      "execution_count": null,
      "metadata": {
        "id": "Mc94yJbie2Tq"
      },
      "outputs": [],
      "source": [
        "#Evaluation Metrics for the Multilayer Perceptrons\n",
        "def plot_train_history(history):\n",
        "    # plot the cost and accuracy \n",
        "    loss_list = history['loss']\n",
        "    val_loss_list = history['val_loss']\n",
        "    accuracy_list = history['accuracy']\n",
        "    val_accuracy_list = history['val_accuracy']\n",
        "    # epochs = range(len(loss_list))\n",
        "\n",
        "    # plot the cost\n",
        "    plt.plot(loss_list, 'b', label='Training cost')\n",
        "    plt.plot(val_loss_list, 'r', label='Validation cost')\n",
        "    plt.ylabel('cost')\n",
        "    plt.xlabel('iterations')\n",
        "    plt.title('Training and validation cost')\n",
        "    plt.legend()\n",
        "\n",
        "    plt.figure()\n",
        "    \n",
        "    # plot the accuracy\n",
        "    plt.plot(accuracy_list, 'b', label='Training accuracy')\n",
        "    plt.plot(val_accuracy_list, 'r', label='Validation accuracy')\n",
        "    plt.ylabel('accuracy')\n",
        "    plt.xlabel('iterations')\n",
        "    plt.title('Training and validation accuracy')\n",
        "    plt.legend()"
      ]
    },
    {
      "cell_type": "code",
      "execution_count": null,
      "metadata": {
        "colab": {
          "base_uri": "https://localhost:8080/"
        },
        "id": "Crpe0lMNdsXE",
        "outputId": "4dc94acb-f989-469f-e3d7-b7d70cbaf966"
      },
      "outputs": [
        {
          "output_type": "stream",
          "name": "stdout",
          "text": [
            "Model: \"sequential\"\n",
            "_________________________________________________________________\n",
            " Layer (type)                Output Shape              Param #   \n",
            "=================================================================\n",
            " dense (Dense)               (None, 128)               7808      \n",
            "                                                                 \n",
            " dense_1 (Dense)             (None, 256)               33024     \n",
            "                                                                 \n",
            " dense_2 (Dense)             (None, 256)               65792     \n",
            "                                                                 \n",
            " dense_3 (Dense)             (None, 256)               65792     \n",
            "                                                                 \n",
            " dense_4 (Dense)             (None, 256)               65792     \n",
            "                                                                 \n",
            " dense_5 (Dense)             (None, 9)                 2313      \n",
            "                                                                 \n",
            "=================================================================\n",
            "Total params: 240,521\n",
            "Trainable params: 240,521\n",
            "Non-trainable params: 0\n",
            "_________________________________________________________________\n"
          ]
        }
      ],
      "source": [
        "#Models being used as base learners\n",
        "#Model1 - \n",
        "mlp = Sequential()\n",
        "mlp.add(Dense(units=128, input_dim=X_train.shape[1], activation='relu'))\n",
        "mlp.add(Dense(256, activation='relu'))\n",
        "mlp.add(Dense(256, activation='relu'))\n",
        "mlp.add(Dense(256, activation='relu'))\n",
        "mlp.add(Dense(256, activation='relu'))\n",
        "mlp.add(Dense(9, activation='softmax'))\n",
        "mlp.summary()\n",
        "mlp.compile(optimizer='adam',\n",
        "            loss='categorical_crossentropy',\n",
        "            metrics=['accuracy', FalsePositiveRate(), tf.keras.metrics.Recall()]\n",
        "           )"
      ]
    },
    {
      "cell_type": "code",
      "execution_count": null,
      "metadata": {
        "colab": {
          "base_uri": "https://localhost:8080/"
        },
        "id": "6wStvvLqd7Y6",
        "outputId": "aa3d6850-6e46-4dfe-8014-036f4b44b765"
      },
      "outputs": [
        {
          "output_type": "stream",
          "name": "stdout",
          "text": [
            "Model: \"sequential_1\"\n",
            "_________________________________________________________________\n",
            " Layer (type)                Output Shape              Param #   \n",
            "=================================================================\n",
            " dense_6 (Dense)             (None, 128)               7808      \n",
            "                                                                 \n",
            " dense_7 (Dense)             (None, 256)               33024     \n",
            "                                                                 \n",
            " dense_8 (Dense)             (None, 256)               65792     \n",
            "                                                                 \n",
            " dense_9 (Dense)             (None, 256)               65792     \n",
            "                                                                 \n",
            " dense_10 (Dense)            (None, 256)               65792     \n",
            "                                                                 \n",
            " dense_11 (Dense)            (None, 9)                 2313      \n",
            "                                                                 \n",
            "=================================================================\n",
            "Total params: 240,521\n",
            "Trainable params: 240,521\n",
            "Non-trainable params: 0\n",
            "_________________________________________________________________\n"
          ]
        }
      ],
      "source": [
        "#Model2 - \n",
        "mlp2 = Sequential()\n",
        "mlp2.add(Dense(units=128, input_dim=X_train.shape[1], activation='relu'))\n",
        "mlp2.add(Dense(256, activation='relu'))\n",
        "mlp2.add(Dense(256, activation='relu'))\n",
        "mlp2.add(Dense(256, activation='relu'))\n",
        "mlp2.add(Dense(256, activation='relu'))\n",
        "mlp2.add(Dense(9, activation='softmax'))\n",
        "mlp2.summary()\n",
        "mlp2.compile(optimizer='adam',\n",
        "            loss='categorical_crossentropy',\n",
        "            metrics=['accuracy', FalsePositiveRate(), tf.keras.metrics.Recall()]\n",
        "           )"
      ]
    },
    {
      "cell_type": "code",
      "execution_count": null,
      "metadata": {
        "colab": {
          "base_uri": "https://localhost:8080/"
        },
        "id": "fXF8I4bLeBEp",
        "outputId": "1f401095-92b3-458b-e502-b260b6fd8cef"
      },
      "outputs": [
        {
          "output_type": "stream",
          "name": "stdout",
          "text": [
            "Model: \"sequential_2\"\n",
            "_________________________________________________________________\n",
            " Layer (type)                Output Shape              Param #   \n",
            "=================================================================\n",
            " dense_12 (Dense)            (None, 128)               7808      \n",
            "                                                                 \n",
            " dense_13 (Dense)            (None, 256)               33024     \n",
            "                                                                 \n",
            " dense_14 (Dense)            (None, 256)               65792     \n",
            "                                                                 \n",
            " dense_15 (Dense)            (None, 256)               65792     \n",
            "                                                                 \n",
            " dense_16 (Dense)            (None, 256)               65792     \n",
            "                                                                 \n",
            " dense_17 (Dense)            (None, 9)                 2313      \n",
            "                                                                 \n",
            "=================================================================\n",
            "Total params: 240,521\n",
            "Trainable params: 240,521\n",
            "Non-trainable params: 0\n",
            "_________________________________________________________________\n"
          ]
        }
      ],
      "source": [
        "#Model3 - \n",
        "mlp3 = Sequential()\n",
        "mlp3.add(Dense(units=128, input_dim=X_train.shape[1], activation='relu'))\n",
        "mlp3.add(Dense(256, activation='relu'))\n",
        "mlp3.add(Dense(256, activation='relu'))\n",
        "mlp3.add(Dense(256, activation='relu'))\n",
        "mlp3.add(Dense(256, activation='relu'))\n",
        "mlp3.add(Dense(9, activation='softmax'))\n",
        "mlp3.summary()\n",
        "mlp3.compile(optimizer='adam',\n",
        "            loss='categorical_crossentropy',\n",
        "            metrics=['accuracy', FalsePositiveRate(), tf.keras.metrics.Recall()]\n",
        "           )"
      ]
    },
    {
      "cell_type": "code",
      "execution_count": null,
      "metadata": {
        "colab": {
          "base_uri": "https://localhost:8080/"
        },
        "id": "jsSwuyTVeHcu",
        "outputId": "9dd27f9f-f784-447e-dd88-67cbdb5b8b9b"
      },
      "outputs": [
        {
          "output_type": "stream",
          "name": "stdout",
          "text": [
            "Model: \"sequential_3\"\n",
            "_________________________________________________________________\n",
            " Layer (type)                Output Shape              Param #   \n",
            "=================================================================\n",
            " dense_18 (Dense)            (None, 128)               7808      \n",
            "                                                                 \n",
            " dense_19 (Dense)            (None, 256)               33024     \n",
            "                                                                 \n",
            " dense_20 (Dense)            (None, 256)               65792     \n",
            "                                                                 \n",
            " dense_21 (Dense)            (None, 256)               65792     \n",
            "                                                                 \n",
            " dense_22 (Dense)            (None, 9)                 2313      \n",
            "                                                                 \n",
            "=================================================================\n",
            "Total params: 174,729\n",
            "Trainable params: 174,729\n",
            "Non-trainable params: 0\n",
            "_________________________________________________________________\n"
          ]
        }
      ],
      "source": [
        "#Model4 - \n",
        "mlp4 = Sequential()\n",
        "mlp4.add(Dense(units=128, input_dim=X_train.shape[1], activation='relu'))\n",
        "mlp4.add(Dense(256, activation='relu'))\n",
        "mlp4.add(Dense(256, activation='relu'))\n",
        "mlp4.add(Dense(256, activation='relu'))\n",
        "mlp4.add(Dense(9, activation='softmax'))\n",
        "mlp4.summary()\n",
        "mlp4.compile(optimizer='adam',\n",
        "            loss='categorical_crossentropy',\n",
        "            metrics=['accuracy', FalsePositiveRate(), tf.keras.metrics.Recall()]\n",
        "           )"
      ]
    },
    {
      "cell_type": "code",
      "execution_count": null,
      "metadata": {
        "id": "lq2gddc3eMar"
      },
      "outputs": [],
      "source": [
        "grid_parameters = [\n",
        "    { #MLP\n",
        "        'batch_size' : [1000, 500, 100],\n",
        "        'epochs' : [80, 85, 90, 95, 100, 105, 110, 115, 120, 125],\n",
        "        'validation_split' : [0.2],\n",
        "        'verbose' : [0]\n",
        "    },\n",
        "    { #MLP2\n",
        "        'batch_size' : [1000, 500, 100],\n",
        "        'epochs' : [80, 85, 90, 95, 100, 105, 110, 115, 120, 125],\n",
        "        'validation_split' : [0.2],\n",
        "        'verbose' : [0]\n",
        "    }, \n",
        "    { #MLP3\n",
        "        'batch_size' : [1000, 500, 100],\n",
        "        'epochs' : [80, 85, 90, 95, 100, 105, 110, 115, 120, 125],\n",
        "        'validation_split' : [0.2],\n",
        "        'verbose' : [0]\n",
        "    },\n",
        "    { #MLP3\n",
        "        'batch_size' : [1000, 500, 100],\n",
        "        'epochs' : [80, 85, 90, 95, 100, 105, 110, 115, 120, 125],\n",
        "        'validation_split' : [0.2],\n",
        "        'verbose' : [0]\n",
        "    }\n",
        "]"
      ]
    },
    {
      "cell_type": "code",
      "execution_count": null,
      "metadata": {
        "colab": {
          "base_uri": "https://localhost:8080/"
        },
        "id": "eAihjC15X0ZR",
        "outputId": "ef8ead96-b086-416b-b0f8-4eaf6a8c3077"
      },
      "outputs": [
        {
          "output_type": "execute_result",
          "data": {
            "text/plain": [
              "id                     int64\n",
              "dur                  float64\n",
              "spkts                float64\n",
              "dpkts                float64\n",
              "sbytes               float64\n",
              "dbytes               float64\n",
              "rate                 float64\n",
              "sttl                   int64\n",
              "dttl                   int64\n",
              "sload                float64\n",
              "dload                float64\n",
              "sloss                float64\n",
              "dloss                float64\n",
              "sinpkt               float64\n",
              "dinpkt               float64\n",
              "sjit                 float64\n",
              "djit                 float64\n",
              "swin                   int64\n",
              "stcpb                float64\n",
              "dtcpb                float64\n",
              "dwin                   int64\n",
              "tcprtt               float64\n",
              "synack               float64\n",
              "ackdat               float64\n",
              "smean                float64\n",
              "dmean                float64\n",
              "trans_depth            int64\n",
              "response_body_len      int64\n",
              "ct_srv_src             int64\n",
              "ct_state_ttl           int64\n",
              "ct_dst_ltm             int64\n",
              "ct_src_dport_ltm       int64\n",
              "ct_dst_sport_ltm       int64\n",
              "ct_dst_src_ltm         int64\n",
              "is_ftp_login           int64\n",
              "ct_ftp_cmd             int64\n",
              "ct_flw_http_mthd       int64\n",
              "ct_src_ltm             int64\n",
              "ct_srv_dst             int64\n",
              "is_sm_ips_ports        int64\n",
              "proto_tcp              uint8\n",
              "proto_udp              uint8\n",
              "service_dhcp           uint8\n",
              "service_dns            uint8\n",
              "service_ftp            uint8\n",
              "service_ftp-data       uint8\n",
              "service_http           uint8\n",
              "service_irc            uint8\n",
              "service_pop3           uint8\n",
              "service_radius         uint8\n",
              "service_smtp           uint8\n",
              "service_snmp           uint8\n",
              "service_ssh            uint8\n",
              "service_ssl            uint8\n",
              "state_ACC              uint8\n",
              "state_CON              uint8\n",
              "state_FIN              uint8\n",
              "state_INT              uint8\n",
              "state_REQ              uint8\n",
              "state_RST              uint8\n",
              "dtype: object"
            ]
          },
          "metadata": {},
          "execution_count": 44
        }
      ],
      "source": [
        "y_train.dtypes\n",
        "X_train.dtypes"
      ]
    },
    {
      "cell_type": "code",
      "execution_count": null,
      "metadata": {
        "colab": {
          "base_uri": "https://localhost:8080/"
        },
        "id": "ALSJ9xwPeWaw",
        "outputId": "916f4ffd-a231-4690-ee41-5beb8fc2debf"
      },
      "outputs": [
        {
          "output_type": "stream",
          "name": "stdout",
          "text": [
            "Epoch 1/85\n",
            "75/75 [==============================] - 4s 39ms/step - loss: 589.6962 - accuracy: 0.3822 - false_positive_rate: 0.0772 - recall: 0.3821 - val_loss: 62.8815 - val_accuracy: 0.1855 - val_false_positive_rate: 0.1016 - val_recall: 0.1848\n",
            "Epoch 2/85\n",
            "75/75 [==============================] - 3s 34ms/step - loss: 115.2685 - accuracy: 0.4162 - false_positive_rate: 0.0728 - recall: 0.4157 - val_loss: 37.6849 - val_accuracy: 0.6488 - val_false_positive_rate: 0.0437 - val_recall: 0.6488\n",
            "Epoch 3/85\n",
            "75/75 [==============================] - 3s 34ms/step - loss: 47.1582 - accuracy: 0.4544 - false_positive_rate: 0.0677 - recall: 0.4526 - val_loss: 25.3465 - val_accuracy: 0.2677 - val_false_positive_rate: 0.0884 - val_recall: 0.2216\n",
            "Epoch 4/85\n",
            "75/75 [==============================] - 3s 35ms/step - loss: 19.3940 - accuracy: 0.5193 - false_positive_rate: 0.0587 - recall: 0.5144 - val_loss: 11.6664 - val_accuracy: 0.5532 - val_false_positive_rate: 0.0480 - val_recall: 0.5506\n",
            "Epoch 5/85\n",
            "75/75 [==============================] - 3s 34ms/step - loss: 8.9463 - accuracy: 0.6233 - false_positive_rate: 0.0440 - recall: 0.6064 - val_loss: 3.7866 - val_accuracy: 0.6503 - val_false_positive_rate: 0.0219 - val_recall: 0.5529\n",
            "Epoch 6/85\n",
            "75/75 [==============================] - 3s 33ms/step - loss: 2.8559 - accuracy: 0.7543 - false_positive_rate: 0.0213 - recall: 0.6862 - val_loss: 2.0840 - val_accuracy: 0.7754 - val_false_positive_rate: 0.0096 - val_recall: 0.6056\n",
            "Epoch 7/85\n",
            "75/75 [==============================] - 3s 34ms/step - loss: 1.6587 - accuracy: 0.8245 - false_positive_rate: 0.0139 - recall: 0.7287 - val_loss: 1.0789 - val_accuracy: 0.8184 - val_false_positive_rate: 0.0132 - val_recall: 0.6842\n",
            "Epoch 8/85\n",
            "75/75 [==============================] - 3s 34ms/step - loss: 1.7495 - accuracy: 0.8090 - false_positive_rate: 0.0152 - recall: 0.7234 - val_loss: 1.2393 - val_accuracy: 0.7478 - val_false_positive_rate: 0.0198 - val_recall: 0.6553\n",
            "Epoch 9/85\n",
            "75/75 [==============================] - 3s 34ms/step - loss: 1.2928 - accuracy: 0.8451 - false_positive_rate: 0.0125 - recall: 0.7432 - val_loss: 0.9342 - val_accuracy: 0.8232 - val_false_positive_rate: 0.0105 - val_recall: 0.6652\n",
            "Epoch 10/85\n",
            "75/75 [==============================] - 3s 34ms/step - loss: 1.6370 - accuracy: 0.8384 - false_positive_rate: 0.0155 - recall: 0.7330 - val_loss: 6.2772 - val_accuracy: 0.5918 - val_false_positive_rate: 0.0488 - val_recall: 0.5845\n",
            "Epoch 11/85\n",
            "75/75 [==============================] - 3s 34ms/step - loss: 9.6429 - accuracy: 0.5953 - false_positive_rate: 0.0484 - recall: 0.5841 - val_loss: 6.2522 - val_accuracy: 0.5916 - val_false_positive_rate: 0.0486 - val_recall: 0.5694\n",
            "Epoch 12/85\n",
            "75/75 [==============================] - 3s 34ms/step - loss: 5.3074 - accuracy: 0.6649 - false_positive_rate: 0.0392 - recall: 0.6452 - val_loss: 4.7454 - val_accuracy: 0.6873 - val_false_positive_rate: 0.0376 - val_recall: 0.6704\n",
            "Epoch 13/85\n",
            "75/75 [==============================] - 3s 34ms/step - loss: 16.0335 - accuracy: 0.5628 - false_positive_rate: 0.0536 - recall: 0.5569 - val_loss: 8.7004 - val_accuracy: 0.6955 - val_false_positive_rate: 0.0274 - val_recall: 0.6899\n",
            "Epoch 14/85\n",
            "75/75 [==============================] - 3s 34ms/step - loss: 9.9605 - accuracy: 0.6538 - false_positive_rate: 0.0412 - recall: 0.6391 - val_loss: 1.3205 - val_accuracy: 0.8539 - val_false_positive_rate: 0.0150 - val_recall: 0.8013\n",
            "Epoch 15/85\n",
            "75/75 [==============================] - 3s 33ms/step - loss: 1.1063 - accuracy: 0.8648 - false_positive_rate: 0.0120 - recall: 0.7893 - val_loss: 1.0045 - val_accuracy: 0.8745 - val_false_positive_rate: 0.0150 - val_recall: 0.8386\n",
            "Epoch 16/85\n",
            "75/75 [==============================] - 3s 34ms/step - loss: 0.9559 - accuracy: 0.8714 - false_positive_rate: 0.0114 - recall: 0.8091 - val_loss: 0.7771 - val_accuracy: 0.8793 - val_false_positive_rate: 0.0135 - val_recall: 0.8372\n",
            "Epoch 17/85\n",
            "75/75 [==============================] - 3s 34ms/step - loss: 0.8877 - accuracy: 0.8774 - false_positive_rate: 0.0112 - recall: 0.8211 - val_loss: 0.6544 - val_accuracy: 0.8646 - val_false_positive_rate: 0.0124 - val_recall: 0.8193\n",
            "Epoch 18/85\n",
            "75/75 [==============================] - 3s 34ms/step - loss: 0.8237 - accuracy: 0.8803 - false_positive_rate: 0.0112 - recall: 0.8324 - val_loss: 0.6643 - val_accuracy: 0.8828 - val_false_positive_rate: 0.0116 - val_recall: 0.8538\n",
            "Epoch 19/85\n",
            "75/75 [==============================] - 3s 34ms/step - loss: 0.6730 - accuracy: 0.8841 - false_positive_rate: 0.0113 - recall: 0.8513 - val_loss: 0.7225 - val_accuracy: 0.8610 - val_false_positive_rate: 0.0111 - val_recall: 0.8172\n",
            "Epoch 20/85\n",
            "75/75 [==============================] - 3s 34ms/step - loss: 0.6925 - accuracy: 0.8843 - false_positive_rate: 0.0114 - recall: 0.8567 - val_loss: 0.5891 - val_accuracy: 0.8773 - val_false_positive_rate: 0.0119 - val_recall: 0.8528\n",
            "Epoch 21/85\n",
            "75/75 [==============================] - 3s 34ms/step - loss: 0.5407 - accuracy: 0.8838 - false_positive_rate: 0.0110 - recall: 0.8554 - val_loss: 0.4809 - val_accuracy: 0.8859 - val_false_positive_rate: 0.0127 - val_recall: 0.8699\n",
            "Epoch 22/85\n",
            "75/75 [==============================] - 3s 34ms/step - loss: 0.5135 - accuracy: 0.8851 - false_positive_rate: 0.0105 - recall: 0.8562 - val_loss: 0.5362 - val_accuracy: 0.8797 - val_false_positive_rate: 0.0105 - val_recall: 0.8546\n",
            "Epoch 23/85\n",
            "75/75 [==============================] - 3s 34ms/step - loss: 0.7374 - accuracy: 0.8640 - false_positive_rate: 0.0126 - recall: 0.8334 - val_loss: 0.6072 - val_accuracy: 0.8816 - val_false_positive_rate: 0.0093 - val_recall: 0.8502\n",
            "Epoch 24/85\n",
            "75/75 [==============================] - 3s 35ms/step - loss: 0.6549 - accuracy: 0.8843 - false_positive_rate: 0.0107 - recall: 0.8611 - val_loss: 0.7462 - val_accuracy: 0.8806 - val_false_positive_rate: 0.0143 - val_recall: 0.8764\n",
            "Epoch 25/85\n",
            "75/75 [==============================] - 3s 34ms/step - loss: 0.6194 - accuracy: 0.8849 - false_positive_rate: 0.0105 - recall: 0.8610 - val_loss: 0.4962 - val_accuracy: 0.8825 - val_false_positive_rate: 0.0113 - val_recall: 0.8609\n",
            "Epoch 26/85\n",
            "75/75 [==============================] - 3s 34ms/step - loss: 2.3528 - accuracy: 0.7868 - false_positive_rate: 0.0229 - recall: 0.7663 - val_loss: 19.4648 - val_accuracy: 0.2589 - val_false_positive_rate: 0.0922 - val_recall: 0.2554\n",
            "Epoch 27/85\n",
            "75/75 [==============================] - 3s 33ms/step - loss: 7.6800 - accuracy: 0.6207 - false_positive_rate: 0.0459 - recall: 0.6148 - val_loss: 7.7601 - val_accuracy: 0.6970 - val_false_positive_rate: 0.0351 - val_recall: 0.6919\n",
            "Epoch 28/85\n",
            "75/75 [==============================] - 3s 35ms/step - loss: 3.7674 - accuracy: 0.7143 - false_positive_rate: 0.0327 - recall: 0.7005 - val_loss: 0.8553 - val_accuracy: 0.8766 - val_false_positive_rate: 0.0128 - val_recall: 0.8533\n",
            "Epoch 29/85\n",
            "75/75 [==============================] - 3s 34ms/step - loss: 0.9991 - accuracy: 0.8760 - false_positive_rate: 0.0122 - recall: 0.8492 - val_loss: 0.7527 - val_accuracy: 0.8791 - val_false_positive_rate: 0.0124 - val_recall: 0.8394\n",
            "Epoch 30/85\n",
            "75/75 [==============================] - 3s 33ms/step - loss: 0.6474 - accuracy: 0.8816 - false_positive_rate: 0.0118 - recall: 0.8585 - val_loss: 0.6882 - val_accuracy: 0.8743 - val_false_positive_rate: 0.0097 - val_recall: 0.8324\n",
            "Epoch 31/85\n",
            "75/75 [==============================] - 3s 34ms/step - loss: 0.6867 - accuracy: 0.8826 - false_positive_rate: 0.0111 - recall: 0.8564 - val_loss: 0.4964 - val_accuracy: 0.8799 - val_false_positive_rate: 0.0041 - val_recall: 0.7883\n",
            "Epoch 32/85\n",
            "75/75 [==============================] - 3s 34ms/step - loss: 0.6115 - accuracy: 0.8780 - false_positive_rate: 0.0117 - recall: 0.8521 - val_loss: 0.4943 - val_accuracy: 0.8735 - val_false_positive_rate: 0.0116 - val_recall: 0.8533\n",
            "Epoch 33/85\n",
            "75/75 [==============================] - 3s 45ms/step - loss: 0.4828 - accuracy: 0.8863 - false_positive_rate: 0.0112 - recall: 0.8666 - val_loss: 0.4918 - val_accuracy: 0.8812 - val_false_positive_rate: 0.0139 - val_recall: 0.8760\n",
            "Epoch 34/85\n",
            "75/75 [==============================] - 3s 34ms/step - loss: 0.4840 - accuracy: 0.8868 - false_positive_rate: 0.0109 - recall: 0.8672 - val_loss: 0.4839 - val_accuracy: 0.8805 - val_false_positive_rate: 0.0134 - val_recall: 0.8716\n",
            "Epoch 35/85\n",
            "75/75 [==============================] - 3s 34ms/step - loss: 0.4897 - accuracy: 0.8861 - false_positive_rate: 0.0113 - recall: 0.8677 - val_loss: 0.5606 - val_accuracy: 0.8827 - val_false_positive_rate: 0.0078 - val_recall: 0.8402\n",
            "Epoch 36/85\n",
            "75/75 [==============================] - 3s 35ms/step - loss: 0.4665 - accuracy: 0.8849 - false_positive_rate: 0.0109 - recall: 0.8629 - val_loss: 0.5445 - val_accuracy: 0.8804 - val_false_positive_rate: 0.0089 - val_recall: 0.8375\n",
            "Epoch 37/85\n",
            "75/75 [==============================] - 3s 34ms/step - loss: 0.4616 - accuracy: 0.8839 - false_positive_rate: 0.0111 - recall: 0.8612 - val_loss: 0.5238 - val_accuracy: 0.8773 - val_false_positive_rate: 0.0135 - val_recall: 0.8683\n",
            "Epoch 38/85\n",
            "75/75 [==============================] - 3s 35ms/step - loss: 0.4611 - accuracy: 0.8817 - false_positive_rate: 0.0109 - recall: 0.8559 - val_loss: 0.4025 - val_accuracy: 0.8833 - val_false_positive_rate: 0.0103 - val_recall: 0.8599\n",
            "Epoch 39/85\n",
            "75/75 [==============================] - 3s 34ms/step - loss: 1.1255 - accuracy: 0.8358 - false_positive_rate: 0.0170 - recall: 0.8148 - val_loss: 1.0747 - val_accuracy: 0.8476 - val_false_positive_rate: 0.0185 - val_recall: 0.8440\n",
            "Epoch 40/85\n",
            "75/75 [==============================] - 4s 54ms/step - loss: 0.5886 - accuracy: 0.8788 - false_positive_rate: 0.0119 - recall: 0.8561 - val_loss: 0.4501 - val_accuracy: 0.8843 - val_false_positive_rate: 0.0090 - val_recall: 0.8420\n",
            "Epoch 41/85\n",
            "75/75 [==============================] - 3s 34ms/step - loss: 0.4464 - accuracy: 0.8860 - false_positive_rate: 0.0107 - recall: 0.8613 - val_loss: 0.4524 - val_accuracy: 0.8825 - val_false_positive_rate: 0.0130 - val_recall: 0.8751\n",
            "Epoch 42/85\n",
            "75/75 [==============================] - 3s 34ms/step - loss: 0.4852 - accuracy: 0.8850 - false_positive_rate: 0.0103 - recall: 0.8600 - val_loss: 0.4800 - val_accuracy: 0.8835 - val_false_positive_rate: 0.0096 - val_recall: 0.8486\n",
            "Epoch 43/85\n",
            "75/75 [==============================] - 3s 34ms/step - loss: 0.5109 - accuracy: 0.8857 - false_positive_rate: 0.0106 - recall: 0.8631 - val_loss: 0.4718 - val_accuracy: 0.8787 - val_false_positive_rate: 0.0077 - val_recall: 0.8376\n",
            "Epoch 44/85\n",
            "75/75 [==============================] - 3s 34ms/step - loss: 0.4541 - accuracy: 0.8854 - false_positive_rate: 0.0103 - recall: 0.8628 - val_loss: 0.4338 - val_accuracy: 0.8836 - val_false_positive_rate: 0.0107 - val_recall: 0.8653\n",
            "Epoch 45/85\n",
            "75/75 [==============================] - 3s 34ms/step - loss: 0.4550 - accuracy: 0.8860 - false_positive_rate: 0.0099 - recall: 0.8610 - val_loss: 0.4083 - val_accuracy: 0.8785 - val_false_positive_rate: 0.0101 - val_recall: 0.8513\n",
            "Epoch 46/85\n",
            "75/75 [==============================] - 3s 34ms/step - loss: 0.4169 - accuracy: 0.8845 - false_positive_rate: 0.0096 - recall: 0.8580 - val_loss: 0.4458 - val_accuracy: 0.8830 - val_false_positive_rate: 0.0103 - val_recall: 0.8575\n",
            "Epoch 47/85\n",
            "75/75 [==============================] - 3s 34ms/step - loss: 0.4063 - accuracy: 0.8857 - false_positive_rate: 0.0095 - recall: 0.8605 - val_loss: 0.3799 - val_accuracy: 0.8857 - val_false_positive_rate: 0.0091 - val_recall: 0.8514\n",
            "Epoch 48/85\n",
            "75/75 [==============================] - 3s 34ms/step - loss: 0.4186 - accuracy: 0.8852 - false_positive_rate: 0.0098 - recall: 0.8590 - val_loss: 0.4184 - val_accuracy: 0.8784 - val_false_positive_rate: 0.0074 - val_recall: 0.8418\n",
            "Epoch 49/85\n",
            "75/75 [==============================] - 3s 35ms/step - loss: 0.4174 - accuracy: 0.8861 - false_positive_rate: 0.0093 - recall: 0.8585 - val_loss: 0.4012 - val_accuracy: 0.8782 - val_false_positive_rate: 0.0126 - val_recall: 0.8650\n",
            "Epoch 50/85\n",
            "75/75 [==============================] - 3s 34ms/step - loss: 0.3929 - accuracy: 0.8857 - false_positive_rate: 0.0092 - recall: 0.8590 - val_loss: 0.3777 - val_accuracy: 0.8860 - val_false_positive_rate: 0.0109 - val_recall: 0.8656\n",
            "Epoch 51/85\n",
            "75/75 [==============================] - 3s 35ms/step - loss: 0.3754 - accuracy: 0.8865 - false_positive_rate: 0.0087 - recall: 0.8576 - val_loss: 0.4670 - val_accuracy: 0.8646 - val_false_positive_rate: 0.0082 - val_recall: 0.8363\n",
            "Epoch 52/85\n",
            "75/75 [==============================] - 3s 34ms/step - loss: 0.3830 - accuracy: 0.8872 - false_positive_rate: 0.0089 - recall: 0.8581 - val_loss: 0.3905 - val_accuracy: 0.8853 - val_false_positive_rate: 0.0090 - val_recall: 0.8527\n",
            "Epoch 53/85\n",
            "75/75 [==============================] - 3s 34ms/step - loss: 0.5337 - accuracy: 0.8673 - false_positive_rate: 0.0113 - recall: 0.8383 - val_loss: 0.5908 - val_accuracy: 0.8697 - val_false_positive_rate: 0.0109 - val_recall: 0.8379\n",
            "Epoch 54/85\n",
            "75/75 [==============================] - 3s 34ms/step - loss: 0.5174 - accuracy: 0.8787 - false_positive_rate: 0.0111 - recall: 0.8509 - val_loss: 0.5597 - val_accuracy: 0.8824 - val_false_positive_rate: 0.0139 - val_recall: 0.8780\n",
            "Epoch 55/85\n",
            "75/75 [==============================] - 3s 35ms/step - loss: 0.4762 - accuracy: 0.8859 - false_positive_rate: 0.0102 - recall: 0.8625 - val_loss: 0.4752 - val_accuracy: 0.8860 - val_false_positive_rate: 0.0124 - val_recall: 0.8769\n",
            "Epoch 56/85\n",
            "75/75 [==============================] - 3s 34ms/step - loss: 0.4147 - accuracy: 0.8871 - false_positive_rate: 0.0097 - recall: 0.8604 - val_loss: 0.5648 - val_accuracy: 0.8794 - val_false_positive_rate: 0.0115 - val_recall: 0.8562\n",
            "Epoch 57/85\n",
            "75/75 [==============================] - 3s 34ms/step - loss: 0.4236 - accuracy: 0.8843 - false_positive_rate: 0.0094 - recall: 0.8567 - val_loss: 0.4549 - val_accuracy: 0.8787 - val_false_positive_rate: 0.0092 - val_recall: 0.8468\n",
            "Epoch 58/85\n",
            "75/75 [==============================] - 3s 34ms/step - loss: 0.3912 - accuracy: 0.8864 - false_positive_rate: 0.0093 - recall: 0.8591 - val_loss: 0.3798 - val_accuracy: 0.8777 - val_false_positive_rate: 0.0080 - val_recall: 0.8468\n",
            "Epoch 59/85\n",
            "75/75 [==============================] - 3s 35ms/step - loss: 0.3731 - accuracy: 0.8872 - false_positive_rate: 0.0094 - recall: 0.8615 - val_loss: 0.3649 - val_accuracy: 0.8832 - val_false_positive_rate: 0.0098 - val_recall: 0.8575\n",
            "Epoch 60/85\n",
            "75/75 [==============================] - 3s 34ms/step - loss: 0.4181 - accuracy: 0.8830 - false_positive_rate: 0.0098 - recall: 0.8555 - val_loss: 0.4156 - val_accuracy: 0.8646 - val_false_positive_rate: 0.0112 - val_recall: 0.8368\n",
            "Epoch 61/85\n",
            "75/75 [==============================] - 3s 34ms/step - loss: 0.3975 - accuracy: 0.8863 - false_positive_rate: 0.0091 - recall: 0.8578 - val_loss: 0.4008 - val_accuracy: 0.8802 - val_false_positive_rate: 0.0101 - val_recall: 0.8566\n",
            "Epoch 62/85\n",
            "75/75 [==============================] - 3s 34ms/step - loss: 0.3712 - accuracy: 0.8876 - false_positive_rate: 0.0093 - recall: 0.8615 - val_loss: 0.4276 - val_accuracy: 0.8780 - val_false_positive_rate: 0.0076 - val_recall: 0.8413\n",
            "Epoch 63/85\n",
            "75/75 [==============================] - 3s 34ms/step - loss: 0.3703 - accuracy: 0.8884 - false_positive_rate: 0.0091 - recall: 0.8611 - val_loss: 0.3742 - val_accuracy: 0.8820 - val_false_positive_rate: 0.0105 - val_recall: 0.8653\n",
            "Epoch 64/85\n",
            "75/75 [==============================] - 3s 34ms/step - loss: 0.3732 - accuracy: 0.8868 - false_positive_rate: 0.0091 - recall: 0.8593 - val_loss: 0.3628 - val_accuracy: 0.8712 - val_false_positive_rate: 0.0085 - val_recall: 0.8478\n",
            "Epoch 65/85\n",
            "75/75 [==============================] - 3s 34ms/step - loss: 0.3555 - accuracy: 0.8878 - false_positive_rate: 0.0091 - recall: 0.8610 - val_loss: 0.4527 - val_accuracy: 0.8858 - val_false_positive_rate: 0.0141 - val_recall: 0.8851\n",
            "Epoch 66/85\n",
            "75/75 [==============================] - 3s 34ms/step - loss: 0.3724 - accuracy: 0.8869 - false_positive_rate: 0.0093 - recall: 0.8604 - val_loss: 0.3833 - val_accuracy: 0.8882 - val_false_positive_rate: 0.0100 - val_recall: 0.8651\n",
            "Epoch 67/85\n",
            "75/75 [==============================] - 3s 34ms/step - loss: 0.3666 - accuracy: 0.8889 - false_positive_rate: 0.0093 - recall: 0.8614 - val_loss: 0.3723 - val_accuracy: 0.8652 - val_false_positive_rate: 0.0067 - val_recall: 0.8347\n",
            "Epoch 68/85\n",
            "75/75 [==============================] - 3s 34ms/step - loss: 0.3765 - accuracy: 0.8878 - false_positive_rate: 0.0089 - recall: 0.8600 - val_loss: 0.4398 - val_accuracy: 0.8793 - val_false_positive_rate: 0.0056 - val_recall: 0.8260\n",
            "Epoch 69/85\n",
            "75/75 [==============================] - 3s 34ms/step - loss: 0.3691 - accuracy: 0.8875 - false_positive_rate: 0.0092 - recall: 0.8607 - val_loss: 0.3953 - val_accuracy: 0.8826 - val_false_positive_rate: 0.0095 - val_recall: 0.8577\n",
            "Epoch 70/85\n",
            "75/75 [==============================] - 3s 34ms/step - loss: 0.4622 - accuracy: 0.8758 - false_positive_rate: 0.0104 - recall: 0.8496 - val_loss: 0.3628 - val_accuracy: 0.8845 - val_false_positive_rate: 0.0062 - val_recall: 0.8374\n",
            "Epoch 71/85\n",
            "75/75 [==============================] - 3s 34ms/step - loss: 0.4084 - accuracy: 0.8860 - false_positive_rate: 0.0093 - recall: 0.8601 - val_loss: 0.4938 - val_accuracy: 0.8826 - val_false_positive_rate: 0.0143 - val_recall: 0.8799\n",
            "Epoch 72/85\n",
            "75/75 [==============================] - 3s 34ms/step - loss: 0.3815 - accuracy: 0.8879 - false_positive_rate: 0.0091 - recall: 0.8621 - val_loss: 0.3606 - val_accuracy: 0.8837 - val_false_positive_rate: 0.0084 - val_recall: 0.8516\n",
            "Epoch 73/85\n",
            "75/75 [==============================] - 3s 34ms/step - loss: 0.3822 - accuracy: 0.8871 - false_positive_rate: 0.0090 - recall: 0.8585 - val_loss: 0.3741 - val_accuracy: 0.8857 - val_false_positive_rate: 0.0085 - val_recall: 0.8515\n",
            "Epoch 74/85\n",
            "75/75 [==============================] - 3s 34ms/step - loss: 0.3534 - accuracy: 0.8901 - false_positive_rate: 0.0084 - recall: 0.8586 - val_loss: 0.3945 - val_accuracy: 0.8804 - val_false_positive_rate: 0.0118 - val_recall: 0.8630\n",
            "Epoch 75/85\n",
            "75/75 [==============================] - 3s 35ms/step - loss: 0.3988 - accuracy: 0.8858 - false_positive_rate: 0.0094 - recall: 0.8576 - val_loss: 0.3724 - val_accuracy: 0.8870 - val_false_positive_rate: 0.0093 - val_recall: 0.8572\n",
            "Epoch 76/85\n",
            "75/75 [==============================] - 3s 34ms/step - loss: 0.3830 - accuracy: 0.8886 - false_positive_rate: 0.0090 - recall: 0.8598 - val_loss: 0.3527 - val_accuracy: 0.8857 - val_false_positive_rate: 0.0071 - val_recall: 0.8390\n",
            "Epoch 77/85\n",
            "75/75 [==============================] - 3s 35ms/step - loss: 0.3729 - accuracy: 0.8880 - false_positive_rate: 0.0086 - recall: 0.8573 - val_loss: 0.3952 - val_accuracy: 0.8729 - val_false_positive_rate: 0.0075 - val_recall: 0.8347\n",
            "Epoch 78/85\n",
            "75/75 [==============================] - 3s 34ms/step - loss: 0.3608 - accuracy: 0.8907 - false_positive_rate: 0.0086 - recall: 0.8603 - val_loss: 0.3612 - val_accuracy: 0.8856 - val_false_positive_rate: 0.0105 - val_recall: 0.8683\n",
            "Epoch 79/85\n",
            "75/75 [==============================] - 3s 35ms/step - loss: 0.3935 - accuracy: 0.8865 - false_positive_rate: 0.0090 - recall: 0.8599 - val_loss: 0.4080 - val_accuracy: 0.8815 - val_false_positive_rate: 0.0131 - val_recall: 0.8731\n",
            "Epoch 80/85\n",
            "75/75 [==============================] - 3s 35ms/step - loss: 0.3691 - accuracy: 0.8893 - false_positive_rate: 0.0084 - recall: 0.8584 - val_loss: 0.3532 - val_accuracy: 0.8863 - val_false_positive_rate: 0.0073 - val_recall: 0.8464\n",
            "Epoch 81/85\n",
            "75/75 [==============================] - 3s 35ms/step - loss: 0.3369 - accuracy: 0.8903 - false_positive_rate: 0.0082 - recall: 0.8594 - val_loss: 0.3449 - val_accuracy: 0.8893 - val_false_positive_rate: 0.0081 - val_recall: 0.8508\n",
            "Epoch 82/85\n",
            "75/75 [==============================] - 3s 35ms/step - loss: 0.3476 - accuracy: 0.8905 - false_positive_rate: 0.0084 - recall: 0.8601 - val_loss: 0.3421 - val_accuracy: 0.8849 - val_false_positive_rate: 0.0083 - val_recall: 0.8468\n",
            "Epoch 83/85\n",
            "75/75 [==============================] - 3s 34ms/step - loss: 0.3572 - accuracy: 0.8899 - false_positive_rate: 0.0085 - recall: 0.8602 - val_loss: 0.3535 - val_accuracy: 0.8746 - val_false_positive_rate: 0.0075 - val_recall: 0.8303\n",
            "Epoch 84/85\n",
            "75/75 [==============================] - 3s 35ms/step - loss: 0.3907 - accuracy: 0.8856 - false_positive_rate: 0.0093 - recall: 0.8576 - val_loss: 0.3471 - val_accuracy: 0.8911 - val_false_positive_rate: 0.0073 - val_recall: 0.8531\n",
            "Epoch 85/85\n",
            "75/75 [==============================] - 3s 35ms/step - loss: 0.3511 - accuracy: 0.8927 - false_positive_rate: 0.0081 - recall: 0.8610 - val_loss: 0.3498 - val_accuracy: 0.8823 - val_false_positive_rate: 0.0066 - val_recall: 0.8382\n"
          ]
        }
      ],
      "source": [
        "y_train = tf.keras.utils.to_categorical(y_train, 9)\n",
        "history = mlp.fit(x=X_train,y=y_train,batch_size=1000,epochs=85,validation_split = 0.2).history\n",
        "\n",
        "h2 = mlp2.fit(x=X_train,\n",
        "                  y=y_train,\n",
        "                  batch_size=1000,\n",
        "                  epochs=118,validation_split = 0.2,\n",
        "                  verbose=0).history\n",
        "\n",
        "h3 = mlp3.fit(x=X_train,\n",
        "                  y=y_train,\n",
        "                  batch_size=1000,\n",
        "                  epochs=90,validation_split = 0.2,\n",
        "                  verbose=0).history\n",
        "\n",
        "h4 = mlp4.fit(x=X_train,\n",
        "                  y=y_train,\n",
        "                  batch_size=1000,\n",
        "                  epochs=75,validation_split = 0.2,\n",
        "                  verbose=0).history"
      ]
    },
    {
      "cell_type": "code",
      "execution_count": null,
      "metadata": {
        "id": "rXY28gl7eaII",
        "colab": {
          "base_uri": "https://localhost:8080/"
        },
        "outputId": "751e6824-b38f-40e4-b903-6060a7aa3034"
      },
      "outputs": [
        {
          "output_type": "stream",
          "name": "stdout",
          "text": [
            "728/728 [==============================] - 1s 2ms/step - loss: 0.3334 - accuracy: 0.8902 - false_positive_rate: 0.0061 - recall: 0.8462\n",
            "Test results1 -  Accuracy: 89.02496695518494\n",
            "728/728 [==============================] - 1s 2ms/step - loss: 0.3330 - accuracy: 0.8931 - false_positive_rate: 0.0076 - recall_1: 0.8568\n",
            "Test results2 -  Accuracy: 89.31288123130798\n",
            "728/728 [==============================] - 1s 2ms/step - loss: 0.3436 - accuracy: 0.8933 - false_positive_rate: 0.0112 - recall_2: 0.8841\n",
            "Test results3 -  Accuracy: 89.33006525039673\n",
            "728/728 [==============================] - 1s 2ms/step - loss: 0.3366 - accuracy: 0.8942 - false_positive_rate: 0.0104 - recall_3: 0.8775\n",
            "Test results4 -  Accuracy: 89.42030668258667\n"
          ]
        }
      ],
      "source": [
        "y_test = tf.keras.utils.to_categorical(y_test, 9)\n",
        "test_results1 = mlp.evaluate(X_test, y_test, verbose=1)\n",
        "print(f'Test results1 -  Accuracy: {test_results1[1]*100}')\n",
        "test_results2 = mlp2.evaluate(X_test, y_test, verbose=1)\n",
        "print(f'Test results2 -  Accuracy: {test_results2[1]*100}')\n",
        "test_results3 = mlp3.evaluate(X_test, y_test, verbose=1)\n",
        "print(f'Test results3 -  Accuracy: {test_results3[1]*100}')\n",
        "test_results4 = mlp4.evaluate(X_test, y_test, verbose=1)\n",
        "print(f'Test results4 -  Accuracy: {test_results4[1]*100}')"
      ]
    },
    {
      "cell_type": "code",
      "execution_count": null,
      "metadata": {
        "id": "_dyT3lcPfOXd",
        "colab": {
          "base_uri": "https://localhost:8080/",
          "height": 1000
        },
        "outputId": "a1408971-5a90-47e3-dc0a-3c91a92d17e8"
      },
      "outputs": [
        {
          "output_type": "stream",
          "name": "stdout",
          "text": [
            "MODEL - 1\n"
          ]
        },
        {
          "output_type": "display_data",
          "data": {
            "text/plain": [
              "<Figure size 432x288 with 1 Axes>"
            ],
            "image/png": "[encoded data removed]"
          },
          "metadata": {
            "needs_background": "light"
          }
        },
        {
          "output_type": "display_data",
          "data": {
            "text/plain": [
              "<Figure size 432x288 with 2 Axes>"
            ],
            "image/png": "[encoded data removed]"
          },
          "metadata": {
            "needs_background": "light"
          }
        },
        {
          "output_type": "stream",
          "name": "stdout",
          "text": [
            "MODEL - 2\n"
          ]
        },
        {
          "output_type": "display_data",
          "data": {
            "text/plain": [
              "<Figure size 432x288 with 1 Axes>"
            ],
            "image/png": "[encoded data removed]"
          },
          "metadata": {
            "needs_background": "light"
          }
        },
        {
          "output_type": "display_data",
          "data": {
            "text/plain": [
              "<Figure size 432x288 with 1 Axes>"
            ],
            "image/png": "[encoded data removed]"
          },
          "metadata": {
            "needs_background": "light"
          }
        },
        {
          "output_type": "display_data",
          "data": {
            "text/plain": [
              "<Figure size 432x288 with 1 Axes>"
            ],
            "image/png": "[encoded data removed]"
          },
          "metadata": {
            "needs_background": "light"
          }
        },
        {
          "output_type": "display_data",
          "data": {
            "text/plain": [
              "<Figure size 432x288 with 2 Axes>"
            ],
            "image/png": "[encoded data removed]"
          },
          "metadata": {
            "needs_background": "light"
          }
        },
        {
          "output_type": "stream",
          "name": "stdout",
          "text": [
            "MODEL - 3\n"
          ]
        },
        {
          "output_type": "display_data",
          "data": {
            "text/plain": [
              "<Figure size 432x288 with 1 Axes>"
            ],
            "image/png": "[encoded data removed]"
          },
          "metadata": {
            "needs_background": "light"
          }
        },
        {
          "output_type": "display_data",
          "data": {
            "text/plain": [
              "<Figure size 432x288 with 1 Axes>"
            ],
            "image/png": "[encoded data removed]"
          },
          "metadata": {
            "needs_background": "light"
          }
        },
        {
          "output_type": "display_data",
          "data": {
            "text/plain": [
              "<Figure size 432x288 with 1 Axes>"
            ],
            "image/png": "[encoded data removed]"
          },
          "metadata": {
            "needs_background": "light"
          }
        },
        {
          "output_type": "display_data",
          "data": {
            "text/plain": [
              "<Figure size 432x288 with 2 Axes>"
            ],
            "image/png": "[encoded data removed]"
          },
          "metadata": {
            "needs_background": "light"
          }
        },
        {
          "output_type": "stream",
          "name": "stdout",
          "text": [
            "MODEL - 4\n"
          ]
        },
        {
          "output_type": "display_data",
          "data": {
            "text/plain": [
              "<Figure size 432x288 with 1 Axes>"
            ],
            "image/png": "[encoded data removed]"
          },
          "metadata": {
            "needs_background": "light"
          }
        },
        {
          "output_type": "display_data",
          "data": {
            "text/plain": [
              "<Figure size 432x288 with 1 Axes>"
            ],
            "image/png": "[encoded data removed]"
          },
          "metadata": {
            "needs_background": "light"
          }
        },
        {
          "output_type": "display_data",
          "data": {
            "text/plain": [
              "<Figure size 432x288 with 1 Axes>"
            ],
            "image/png": "[encoded data removed]"
          },
          "metadata": {
            "needs_background": "light"
          }
        },
        {
          "output_type": "display_data",
          "data": {
            "text/plain": [
              "<Figure size 432x288 with 2 Axes>"
            ],
            "image/png": "[encoded data removed]"
          },
          "metadata": {
            "needs_background": "light"
          }
        },
        {
          "output_type": "display_data",
          "data": {
            "text/plain": [
              "<Figure size 432x288 with 1 Axes>"
            ],
            "image/png": "[encoded data removed]"
          },
          "metadata": {
            "needs_background": "light"
          }
        },
        {
          "output_type": "display_data",
          "data": {
            "text/plain": [
              "<Figure size 432x288 with 1 Axes>"
            ],
            "image/png": "[encoded data removed]"
          },
          "metadata": {
            "needs_background": "light"
          }
        }
      ],
      "source": [
        "#Graphs\n",
        "print(\"MODEL - 1\")\n",
        "plot_loss(history)\n",
        "plot_model_recall_fpr(history)\n",
        "plot_train_history(history)\n",
        "print(\"MODEL - 2\")\n",
        "plot_loss(h2)\n",
        "plot_model_recall_fpr(h2)\n",
        "plot_train_history(h2)\n",
        "print(\"MODEL - 3\")\n",
        "plot_loss(h3)\n",
        "plot_model_recall_fpr(h3)\n",
        "plot_train_history(h3)\n",
        "print(\"MODEL - 4\")\n",
        "plot_loss(h4)\n",
        "plot_model_recall_fpr(h4)\n",
        "plot_train_history(h4)"
      ]
    },
    {
      "cell_type": "code",
      "execution_count": null,
      "metadata": {
        "id": "STdb2399gCSB"
      },
      "outputs": [],
      "source": [
        "mlp.save('model1.h5')"
      ]
    },
    {
      "cell_type": "code",
      "execution_count": null,
      "metadata": {
        "id": "6hY_DJ9OgC8Q"
      },
      "outputs": [],
      "source": [
        "mlp2.save('model2.h5')"
      ]
    },
    {
      "cell_type": "code",
      "execution_count": null,
      "metadata": {
        "id": "OJNWiMWXgE7L"
      },
      "outputs": [],
      "source": [
        "mlp3.save('model3.h5')"
      ]
    },
    {
      "cell_type": "code",
      "execution_count": null,
      "metadata": {
        "id": "hWUkT818gGxw"
      },
      "outputs": [],
      "source": [
        "mlp4.save('model4.h5')"
      ]
    },
    {
      "cell_type": "code",
      "execution_count": null,
      "metadata": {
        "id": "a3Oxu8gygJf1"
      },
      "outputs": [],
      "source": [
        "def load_all_models(n_models):\n",
        "\tall_models = list()\n",
        "\tfor i in range(n_models):\n",
        "\t\t# Specify the filename\n",
        "\t\tfilename = '/content/model' + str(i + 1) + '.h5'\n",
        "\t\t# load the model \n",
        "\t\tmodel = load_model(filename,custom_objects=dependencies)\n",
        "\t\t# Add a list of all the weaker learners\n",
        "\t\tall_models.append(model)\n",
        "\t\tprint('>loaded %s' % filename)\n",
        "\treturn all_models"
      ]
    },
    {
      "cell_type": "code",
      "execution_count": null,
      "metadata": {
        "id": "4JdPFeOsgLwS",
        "colab": {
          "base_uri": "https://localhost:8080/"
        },
        "outputId": "c79bd21b-29a3-4f49-a5e9-18e63f9d9896"
      },
      "outputs": [
        {
          "output_type": "stream",
          "name": "stdout",
          "text": [
            ">loaded /content/model1.h5\n",
            ">loaded /content/model2.h5\n",
            ">loaded /content/model3.h5\n",
            ">loaded /content/model4.h5\n",
            "Loaded 4 models\n"
          ]
        }
      ],
      "source": [
        "dependencies = {'FalsePositiveRate': FalsePositiveRate}\n",
        "\n",
        "n_members = 4\n",
        "members = load_all_models(n_members)\n",
        "print('Loaded %d models' % len(members))"
      ]
    },
    {
      "cell_type": "code",
      "execution_count": null,
      "metadata": {
        "id": "qGBpf_wBgPLC"
      },
      "outputs": [],
      "source": [
        "# create stacked model input dataset as outputs from the ensemble\n",
        "def stacked_dataset(members, inputX):\n",
        "\tstackX = None\n",
        "\tfor model in members:\n",
        "\t\t# make prediction\n",
        "\t\tyhat = model.predict(inputX, verbose=0)\n",
        "\t\t# stack predictions into [rows, members, probabilities]\n",
        "\t\tif stackX is None:\n",
        "\t\t\tstackX = yhat #\n",
        "\t\telse:\n",
        "\t\t\tstackX = dstack((stackX, yhat))\n",
        "\t# flatten predictions to [rows, members x probabilities]\n",
        "\tstackX = stackX.reshape((stackX.shape[0], stackX.shape[1]*stackX.shape[2]))\n",
        "\treturn stackX"
      ]
    },
    {
      "cell_type": "code",
      "execution_count": null,
      "metadata": {
        "id": "kWio_jO-kUKm",
        "colab": {
          "base_uri": "https://localhost:8080/"
        },
        "outputId": "923390b3-74fa-48c7-a99f-c6cebc1f0085"
      },
      "outputs": [
        {
          "output_type": "execute_result",
          "data": {
            "text/plain": [
              "array([0., 0., 0., ..., 0., 0., 0.], dtype=float32)"
            ]
          },
          "metadata": {},
          "execution_count": 55
        }
      ],
      "source": [
        "y_test = y_test.reshape(-1)\n",
        "y_test"
      ]
    },
    {
      "cell_type": "code",
      "execution_count": null,
      "metadata": {
        "colab": {
          "base_uri": "https://localhost:8080/",
          "height": 345
        },
        "id": "ncKG6_TjgUW6",
        "outputId": "59163931-e0a3-4473-bdf1-d7fd7b838e62"
      },
      "outputs": [
        {
          "output_type": "error",
          "ename": "ValueError",
          "evalue": "ignored",
          "traceback": [
            "\u001b[0;31m---------------------------------------------------------------------------\u001b[0m",
            "\u001b[0;31mValueError\u001b[0m                                Traceback (most recent call last)",
            "\u001b[0;32m<ipython-input-56-ee3c42a9fbda>\u001b[0m in \u001b[0;36m<module>\u001b[0;34m()\u001b[0m\n\u001b[1;32m      8\u001b[0m         \u001b[0mmodel\u001b[0m\u001b[0;34m.\u001b[0m\u001b[0mfit\u001b[0m\u001b[0;34m(\u001b[0m\u001b[0mstackedX\u001b[0m\u001b[0;34m,\u001b[0m \u001b[0minputy\u001b[0m\u001b[0;34m)\u001b[0m\u001b[0;34m\u001b[0m\u001b[0;34m\u001b[0m\u001b[0m\n\u001b[1;32m      9\u001b[0m         \u001b[0;32mreturn\u001b[0m \u001b[0mmodel\u001b[0m\u001b[0;34m\u001b[0m\u001b[0;34m\u001b[0m\u001b[0m\n\u001b[0;32m---> 10\u001b[0;31m \u001b[0mmodel\u001b[0m \u001b[0;34m=\u001b[0m \u001b[0mfit_stacked_model\u001b[0m\u001b[0;34m(\u001b[0m\u001b[0mmembers\u001b[0m\u001b[0;34m,\u001b[0m \u001b[0mX_test\u001b[0m\u001b[0;34m,\u001b[0m\u001b[0my_test\u001b[0m\u001b[0;34m)\u001b[0m\u001b[0;34m\u001b[0m\u001b[0;34m\u001b[0m\u001b[0m\n\u001b[0m",
            "\u001b[0;32m<ipython-input-56-ee3c42a9fbda>\u001b[0m in \u001b[0;36mfit_stacked_model\u001b[0;34m(members, inputX, inputy)\u001b[0m\n\u001b[1;32m      6\u001b[0m         \u001b[0;31m# fit the meta learner\u001b[0m\u001b[0;34m\u001b[0m\u001b[0;34m\u001b[0m\u001b[0;34m\u001b[0m\u001b[0m\n\u001b[1;32m      7\u001b[0m         \u001b[0mmodel\u001b[0m \u001b[0;34m=\u001b[0m \u001b[0mLogisticRegression\u001b[0m\u001b[0;34m(\u001b[0m\u001b[0;34m)\u001b[0m \u001b[0;31m#meta learner\u001b[0m\u001b[0;34m\u001b[0m\u001b[0;34m\u001b[0m\u001b[0m\n\u001b[0;32m----> 8\u001b[0;31m         \u001b[0mmodel\u001b[0m\u001b[0;34m.\u001b[0m\u001b[0mfit\u001b[0m\u001b[0;34m(\u001b[0m\u001b[0mstackedX\u001b[0m\u001b[0;34m,\u001b[0m \u001b[0minputy\u001b[0m\u001b[0;34m)\u001b[0m\u001b[0;34m\u001b[0m\u001b[0;34m\u001b[0m\u001b[0m\n\u001b[0m\u001b[1;32m      9\u001b[0m         \u001b[0;32mreturn\u001b[0m \u001b[0mmodel\u001b[0m\u001b[0;34m\u001b[0m\u001b[0;34m\u001b[0m\u001b[0m\n\u001b[1;32m     10\u001b[0m \u001b[0mmodel\u001b[0m \u001b[0;34m=\u001b[0m \u001b[0mfit_stacked_model\u001b[0m\u001b[0;34m(\u001b[0m\u001b[0mmembers\u001b[0m\u001b[0;34m,\u001b[0m \u001b[0mX_test\u001b[0m\u001b[0;34m,\u001b[0m\u001b[0my_test\u001b[0m\u001b[0;34m)\u001b[0m\u001b[0;34m\u001b[0m\u001b[0;34m\u001b[0m\u001b[0m\n",
            "\u001b[0;32m/usr/local/lib/python3.7/dist-packages/sklearn/linear_model/_logistic.py\u001b[0m in \u001b[0;36mfit\u001b[0;34m(self, X, y, sample_weight)\u001b[0m\n\u001b[1;32m   1512\u001b[0m             \u001b[0mdtype\u001b[0m\u001b[0;34m=\u001b[0m\u001b[0m_dtype\u001b[0m\u001b[0;34m,\u001b[0m\u001b[0;34m\u001b[0m\u001b[0;34m\u001b[0m\u001b[0m\n\u001b[1;32m   1513\u001b[0m             \u001b[0morder\u001b[0m\u001b[0;34m=\u001b[0m\u001b[0;34m\"C\"\u001b[0m\u001b[0;34m,\u001b[0m\u001b[0;34m\u001b[0m\u001b[0;34m\u001b[0m\u001b[0m\n\u001b[0;32m-> 1514\u001b[0;31m             \u001b[0maccept_large_sparse\u001b[0m\u001b[0;34m=\u001b[0m\u001b[0msolver\u001b[0m \u001b[0;32mnot\u001b[0m \u001b[0;32min\u001b[0m \u001b[0;34m[\u001b[0m\u001b[0;34m\"liblinear\"\u001b[0m\u001b[0;34m,\u001b[0m \u001b[0;34m\"sag\"\u001b[0m\u001b[0;34m,\u001b[0m \u001b[0;34m\"saga\"\u001b[0m\u001b[0;34m]\u001b[0m\u001b[0;34m,\u001b[0m\u001b[0;34m\u001b[0m\u001b[0;34m\u001b[0m\u001b[0m\n\u001b[0m\u001b[1;32m   1515\u001b[0m         )\n\u001b[1;32m   1516\u001b[0m         \u001b[0mcheck_classification_targets\u001b[0m\u001b[0;34m(\u001b[0m\u001b[0my\u001b[0m\u001b[0;34m)\u001b[0m\u001b[0;34m\u001b[0m\u001b[0;34m\u001b[0m\u001b[0m\n",
            "\u001b[0;32m/usr/local/lib/python3.7/dist-packages/sklearn/base.py\u001b[0m in \u001b[0;36m_validate_data\u001b[0;34m(self, X, y, reset, validate_separately, **check_params)\u001b[0m\n\u001b[1;32m    579\u001b[0m                 \u001b[0my\u001b[0m \u001b[0;34m=\u001b[0m \u001b[0mcheck_array\u001b[0m\u001b[0;34m(\u001b[0m\u001b[0my\u001b[0m\u001b[0;34m,\u001b[0m \u001b[0;34m**\u001b[0m\u001b[0mcheck_y_params\u001b[0m\u001b[0;34m)\u001b[0m\u001b[0;34m\u001b[0m\u001b[0;34m\u001b[0m\u001b[0m\n\u001b[1;32m    580\u001b[0m             \u001b[0;32melse\u001b[0m\u001b[0;34m:\u001b[0m\u001b[0;34m\u001b[0m\u001b[0;34m\u001b[0m\u001b[0m\n\u001b[0;32m--> 581\u001b[0;31m                 \u001b[0mX\u001b[0m\u001b[0;34m,\u001b[0m \u001b[0my\u001b[0m \u001b[0;34m=\u001b[0m \u001b[0mcheck_X_y\u001b[0m\u001b[0;34m(\u001b[0m\u001b[0mX\u001b[0m\u001b[0;34m,\u001b[0m \u001b[0my\u001b[0m\u001b[0;34m,\u001b[0m \u001b[0;34m**\u001b[0m\u001b[0mcheck_params\u001b[0m\u001b[0;34m)\u001b[0m\u001b[0;34m\u001b[0m\u001b[0;34m\u001b[0m\u001b[0m\n\u001b[0m\u001b[1;32m    582\u001b[0m             \u001b[0mout\u001b[0m \u001b[0;34m=\u001b[0m \u001b[0mX\u001b[0m\u001b[0;34m,\u001b[0m \u001b[0my\u001b[0m\u001b[0;34m\u001b[0m\u001b[0;34m\u001b[0m\u001b[0m\n\u001b[1;32m    583\u001b[0m \u001b[0;34m\u001b[0m\u001b[0m\n",
            "\u001b[0;32m/usr/local/lib/python3.7/dist-packages/sklearn/utils/validation.py\u001b[0m in \u001b[0;36mcheck_X_y\u001b[0;34m(X, y, accept_sparse, accept_large_sparse, dtype, order, copy, force_all_finite, ensure_2d, allow_nd, multi_output, ensure_min_samples, ensure_min_features, y_numeric, estimator)\u001b[0m\n\u001b[1;32m    979\u001b[0m     \u001b[0my\u001b[0m \u001b[0;34m=\u001b[0m \u001b[0m_check_y\u001b[0m\u001b[0;34m(\u001b[0m\u001b[0my\u001b[0m\u001b[0;34m,\u001b[0m \u001b[0mmulti_output\u001b[0m\u001b[0;34m=\u001b[0m\u001b[0mmulti_output\u001b[0m\u001b[0;34m,\u001b[0m \u001b[0my_numeric\u001b[0m\u001b[0;34m=\u001b[0m\u001b[0my_numeric\u001b[0m\u001b[0;34m)\u001b[0m\u001b[0;34m\u001b[0m\u001b[0;34m\u001b[0m\u001b[0m\n\u001b[1;32m    980\u001b[0m \u001b[0;34m\u001b[0m\u001b[0m\n\u001b[0;32m--> 981\u001b[0;31m     \u001b[0mcheck_consistent_length\u001b[0m\u001b[0;34m(\u001b[0m\u001b[0mX\u001b[0m\u001b[0;34m,\u001b[0m \u001b[0my\u001b[0m\u001b[0;34m)\u001b[0m\u001b[0;34m\u001b[0m\u001b[0;34m\u001b[0m\u001b[0m\n\u001b[0m\u001b[1;32m    982\u001b[0m \u001b[0;34m\u001b[0m\u001b[0m\n\u001b[1;32m    983\u001b[0m     \u001b[0;32mreturn\u001b[0m \u001b[0mX\u001b[0m\u001b[0;34m,\u001b[0m \u001b[0my\u001b[0m\u001b[0;34m\u001b[0m\u001b[0;34m\u001b[0m\u001b[0m\n",
            "\u001b[0;32m/usr/local/lib/python3.7/dist-packages/sklearn/utils/validation.py\u001b[0m in \u001b[0;36mcheck_consistent_length\u001b[0;34m(*arrays)\u001b[0m\n\u001b[1;32m    332\u001b[0m         raise ValueError(\n\u001b[1;32m    333\u001b[0m             \u001b[0;34m\"Found input variables with inconsistent numbers of samples: %r\"\u001b[0m\u001b[0;34m\u001b[0m\u001b[0;34m\u001b[0m\u001b[0m\n\u001b[0;32m--> 334\u001b[0;31m             \u001b[0;34m%\u001b[0m \u001b[0;34m[\u001b[0m\u001b[0mint\u001b[0m\u001b[0;34m(\u001b[0m\u001b[0ml\u001b[0m\u001b[0;34m)\u001b[0m \u001b[0;32mfor\u001b[0m \u001b[0ml\u001b[0m \u001b[0;32min\u001b[0m \u001b[0mlengths\u001b[0m\u001b[0;34m]\u001b[0m\u001b[0;34m\u001b[0m\u001b[0;34m\u001b[0m\u001b[0m\n\u001b[0m\u001b[1;32m    335\u001b[0m         )\n\u001b[1;32m    336\u001b[0m \u001b[0;34m\u001b[0m\u001b[0m\n",
            "\u001b[0;31mValueError\u001b[0m: Found input variables with inconsistent numbers of samples: [23271, 209439]"
          ]
        }
      ],
      "source": [
        "# fit a model based on the outputs from the ensemble members\n",
        "# 1 - Logistic Regression\n",
        "def fit_stacked_model(members, inputX, inputy):\n",
        "\t# create dataset using ensemble\n",
        "\tstackedX = stacked_dataset(members, inputX)\n",
        "\t# fit the meta learner\n",
        "\tmodel = LogisticRegression() #meta learner\n",
        "\tmodel.fit(stackedX, inputy)\n",
        "\treturn model\n",
        "model = fit_stacked_model(members, X_test,y_test)"
      ]
    },
    {
      "cell_type": "code",
      "execution_count": null,
      "metadata": {
        "id": "JcBJ8WZ3geyu"
      },
      "outputs": [],
      "source": [
        "def stacked_prediction(members, model, inputX):\n",
        "\t# create dataset using ensemble\n",
        "\tstackedX = stacked_dataset(members, inputX)\n",
        "\t# make a prediction\n",
        "\tyhat = model.predict(stackedX)\n",
        "\treturn yhat\n",
        "# evaluate model on test set -\n",
        "yhat = stacked_prediction(members, model, X_test)\n",
        "score = accuracy_score(y_test/1.0, yhat/1.0)\n",
        "print('Stacked Score with Logistic Regression:', score)"
      ]
    },
    {
      "cell_type": "code",
      "execution_count": null,
      "metadata": {
        "id": "9ZeeD3utglVA"
      },
      "outputs": [],
      "source": [
        "# fit a model based on the outputs from the ensemble members\n",
        "# 2 - Gradient Boosting Machine\n",
        "def fit_stacked_model(members, inputX, inputy):\n",
        "\t# create dataset using ensemble\n",
        "\tstackedX = stacked_dataset(members, inputX)\n",
        "\t# fit the meta learner\n",
        "\tmodel = GradientBoostingClassifier() #meta learner\n",
        "\tmodel.fit(stackedX, inputy)\n",
        "\treturn model\n",
        "stackedmodel2 = fit_stacked_model(members, X_test,y_test)"
      ]
    },
    {
      "cell_type": "code",
      "execution_count": null,
      "metadata": {
        "id": "MTRtCd9kgvq6"
      },
      "outputs": [],
      "source": [
        "yhat2 = stacked_prediction(members, stackedmodel2, X_test)\n",
        "score2 = accuracy_score(y_test/1.0, yhat2/1.0)\n",
        "print('Stacked Score with Gradient Boosting Machine:', score2)"
      ]
    },
    {
      "cell_type": "code",
      "execution_count": null,
      "metadata": {
        "id": "uceCnV3IhJkG"
      },
      "outputs": [],
      "source": [
        ""
      ]
    }
  ],
  "metadata": {
    "colab": {
      "name": "TwoStax.ipynb",
      "provenance": []
    },
    "kernelspec": {
      "display_name": "Python 3",
      "name": "python3"
    },
    "language_info": {
      "name": "python"
    }
  },
  "nbformat": 4,
  "nbformat_minor": 0
}